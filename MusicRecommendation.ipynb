{
 "cells": [
  {
   "cell_type": "markdown",
   "metadata": {},
   "source": [
    "# Kshtij Raut \n",
    "Music Recomendation"
   ]
  },
  {
   "cell_type": "code",
   "execution_count": null,
   "metadata": {
    "id": "OhwKe5mzAfsh"
   },
   "outputs": [],
   "source": [
    "import pandas as pd\n",
    "import numpy as np\n",
    "from sklearn.model_selection import train_test_split\n",
    "from sklearn.preprocessing import LabelEncoder\n",
    "import seaborn as sns\n",
    "import matplotlib.pyplot as plt\n",
    "import warnings as wg\n",
    "wg.filterwarnings(\"ignore\")"
   ]
  },
  {
   "cell_type": "code",
   "execution_count": null,
   "metadata": {
    "colab": {
     "base_uri": "https://localhost:8080/",
     "height": 206
    },
    "executionInfo": {
     "elapsed": 765,
     "status": "ok",
     "timestamp": 1650998795436,
     "user": {
      "displayName": "Harsh Bansal",
      "userId": "14022242986795664987"
     },
     "user_tz": -330
    },
    "id": "FQRe4udYIC5A",
    "outputId": "ffebe535-487c-4ceb-87c9-a6de56906fc8"
   },
   "outputs": [
    {
     "data": {
      "text/html": [
       "\n",
       "  <div id=\"df-ae4d8be3-759d-4ed3-ae8b-4458e93c2b87\">\n",
       "    <div class=\"colab-df-container\">\n",
       "      <div>\n",
       "<style scoped>\n",
       "    .dataframe tbody tr th:only-of-type {\n",
       "        vertical-align: middle;\n",
       "    }\n",
       "\n",
       "    .dataframe tbody tr th {\n",
       "        vertical-align: top;\n",
       "    }\n",
       "\n",
       "    .dataframe thead th {\n",
       "        text-align: right;\n",
       "    }\n",
       "</style>\n",
       "<table border=\"1\" class=\"dataframe\">\n",
       "  <thead>\n",
       "    <tr style=\"text-align: right;\">\n",
       "      <th></th>\n",
       "      <th>msno</th>\n",
       "      <th>city</th>\n",
       "      <th>bd</th>\n",
       "      <th>gender</th>\n",
       "      <th>registered_via</th>\n",
       "      <th>registration_init_time</th>\n",
       "      <th>expiration_date</th>\n",
       "    </tr>\n",
       "  </thead>\n",
       "  <tbody>\n",
       "    <tr>\n",
       "      <th>0</th>\n",
       "      <td>XQxgAYj3klVKjR3oxPPXYYFp4soD4TuBghkhMTD4oTw=</td>\n",
       "      <td>1</td>\n",
       "      <td>0</td>\n",
       "      <td>NaN</td>\n",
       "      <td>7</td>\n",
       "      <td>20110820</td>\n",
       "      <td>20170920</td>\n",
       "    </tr>\n",
       "    <tr>\n",
       "      <th>1</th>\n",
       "      <td>UizsfmJb9mV54qE9hCYyU07Va97c0lCRLEQX3ae+ztM=</td>\n",
       "      <td>1</td>\n",
       "      <td>0</td>\n",
       "      <td>NaN</td>\n",
       "      <td>7</td>\n",
       "      <td>20150628</td>\n",
       "      <td>20170622</td>\n",
       "    </tr>\n",
       "    <tr>\n",
       "      <th>2</th>\n",
       "      <td>D8nEhsIOBSoE6VthTaqDX8U6lqjJ7dLdr72mOyLya2A=</td>\n",
       "      <td>1</td>\n",
       "      <td>0</td>\n",
       "      <td>NaN</td>\n",
       "      <td>4</td>\n",
       "      <td>20160411</td>\n",
       "      <td>20170712</td>\n",
       "    </tr>\n",
       "    <tr>\n",
       "      <th>3</th>\n",
       "      <td>mCuD+tZ1hERA/o5GPqk38e041J8ZsBaLcu7nGoIIvhI=</td>\n",
       "      <td>1</td>\n",
       "      <td>0</td>\n",
       "      <td>NaN</td>\n",
       "      <td>9</td>\n",
       "      <td>20150906</td>\n",
       "      <td>20150907</td>\n",
       "    </tr>\n",
       "    <tr>\n",
       "      <th>4</th>\n",
       "      <td>q4HRBfVSssAFS9iRfxWrohxuk9kCYMKjHOEagUMV6rQ=</td>\n",
       "      <td>1</td>\n",
       "      <td>0</td>\n",
       "      <td>NaN</td>\n",
       "      <td>4</td>\n",
       "      <td>20170126</td>\n",
       "      <td>20170613</td>\n",
       "    </tr>\n",
       "  </tbody>\n",
       "</table>\n",
       "</div>\n",
       "      <button class=\"colab-df-convert\" onclick=\"convertToInteractive('df-ae4d8be3-759d-4ed3-ae8b-4458e93c2b87')\"\n",
       "              title=\"Convert this dataframe to an interactive table.\"\n",
       "              style=\"display:none;\">\n",
       "        \n",
       "  <svg xmlns=\"http://www.w3.org/2000/svg\" height=\"24px\"viewBox=\"0 0 24 24\"\n",
       "       width=\"24px\">\n",
       "    <path d=\"M0 0h24v24H0V0z\" fill=\"none\"/>\n",
       "    <path d=\"M18.56 5.44l.94 2.06.94-2.06 2.06-.94-2.06-.94-.94-2.06-.94 2.06-2.06.94zm-11 1L8.5 8.5l.94-2.06 2.06-.94-2.06-.94L8.5 2.5l-.94 2.06-2.06.94zm10 10l.94 2.06.94-2.06 2.06-.94-2.06-.94-.94-2.06-.94 2.06-2.06.94z\"/><path d=\"M17.41 7.96l-1.37-1.37c-.4-.4-.92-.59-1.43-.59-.52 0-1.04.2-1.43.59L10.3 9.45l-7.72 7.72c-.78.78-.78 2.05 0 2.83L4 21.41c.39.39.9.59 1.41.59.51 0 1.02-.2 1.41-.59l7.78-7.78 2.81-2.81c.8-.78.8-2.07 0-2.86zM5.41 20L4 18.59l7.72-7.72 1.47 1.35L5.41 20z\"/>\n",
       "  </svg>\n",
       "      </button>\n",
       "      \n",
       "  <style>\n",
       "    .colab-df-container {\n",
       "      display:flex;\n",
       "      flex-wrap:wrap;\n",
       "      gap: 12px;\n",
       "    }\n",
       "\n",
       "    .colab-df-convert {\n",
       "      background-color: #E8F0FE;\n",
       "      border: none;\n",
       "      border-radius: 50%;\n",
       "      cursor: pointer;\n",
       "      display: none;\n",
       "      fill: #1967D2;\n",
       "      height: 32px;\n",
       "      padding: 0 0 0 0;\n",
       "      width: 32px;\n",
       "    }\n",
       "\n",
       "    .colab-df-convert:hover {\n",
       "      background-color: #E2EBFA;\n",
       "      box-shadow: 0px 1px 2px rgba(60, 64, 67, 0.3), 0px 1px 3px 1px rgba(60, 64, 67, 0.15);\n",
       "      fill: #174EA6;\n",
       "    }\n",
       "\n",
       "    [theme=dark] .colab-df-convert {\n",
       "      background-color: #3B4455;\n",
       "      fill: #D2E3FC;\n",
       "    }\n",
       "\n",
       "    [theme=dark] .colab-df-convert:hover {\n",
       "      background-color: #434B5C;\n",
       "      box-shadow: 0px 1px 3px 1px rgba(0, 0, 0, 0.15);\n",
       "      filter: drop-shadow(0px 1px 2px rgba(0, 0, 0, 0.3));\n",
       "      fill: #FFFFFF;\n",
       "    }\n",
       "  </style>\n",
       "\n",
       "      <script>\n",
       "        const buttonEl =\n",
       "          document.querySelector('#df-ae4d8be3-759d-4ed3-ae8b-4458e93c2b87 button.colab-df-convert');\n",
       "        buttonEl.style.display =\n",
       "          google.colab.kernel.accessAllowed ? 'block' : 'none';\n",
       "\n",
       "        async function convertToInteractive(key) {\n",
       "          const element = document.querySelector('#df-ae4d8be3-759d-4ed3-ae8b-4458e93c2b87');\n",
       "          const dataTable =\n",
       "            await google.colab.kernel.invokeFunction('convertToInteractive',\n",
       "                                                     [key], {});\n",
       "          if (!dataTable) return;\n",
       "\n",
       "          const docLinkHtml = 'Like what you see? Visit the ' +\n",
       "            '<a target=\"_blank\" href=https://colab.research.google.com/notebooks/data_table.ipynb>data table notebook</a>'\n",
       "            + ' to learn more about interactive tables.';\n",
       "          element.innerHTML = '';\n",
       "          dataTable['output_type'] = 'display_data';\n",
       "          await google.colab.output.renderOutput(dataTable, element);\n",
       "          const docLink = document.createElement('div');\n",
       "          docLink.innerHTML = docLinkHtml;\n",
       "          element.appendChild(docLink);\n",
       "        }\n",
       "      </script>\n",
       "    </div>\n",
       "  </div>\n",
       "  "
      ],
      "text/plain": [
       "                                           msno  city  bd gender  \\\n",
       "0  XQxgAYj3klVKjR3oxPPXYYFp4soD4TuBghkhMTD4oTw=     1   0    NaN   \n",
       "1  UizsfmJb9mV54qE9hCYyU07Va97c0lCRLEQX3ae+ztM=     1   0    NaN   \n",
       "2  D8nEhsIOBSoE6VthTaqDX8U6lqjJ7dLdr72mOyLya2A=     1   0    NaN   \n",
       "3  mCuD+tZ1hERA/o5GPqk38e041J8ZsBaLcu7nGoIIvhI=     1   0    NaN   \n",
       "4  q4HRBfVSssAFS9iRfxWrohxuk9kCYMKjHOEagUMV6rQ=     1   0    NaN   \n",
       "\n",
       "   registered_via  registration_init_time  expiration_date  \n",
       "0               7                20110820         20170920  \n",
       "1               7                20150628         20170622  \n",
       "2               4                20160411         20170712  \n",
       "3               9                20150906         20150907  \n",
       "4               4                20170126         20170613  "
      ]
     },
     "execution_count": 68,
     "metadata": {},
     "output_type": "execute_result"
    }
   ],
   "source": [
    "mbers = pd.read_csv('members.csv')\n",
    "mbers.head()"
   ]
  },
  {
   "cell_type": "code",
   "execution_count": null,
   "metadata": {
    "colab": {
     "base_uri": "https://localhost:8080/"
    },
    "executionInfo": {
     "elapsed": 25,
     "status": "ok",
     "timestamp": 1650998795438,
     "user": {
      "displayName": "Harsh Bansal",
      "userId": "14022242986795664987"
     },
     "user_tz": -330
    },
    "id": "MwcWIhVIITrd",
    "outputId": "1078b10b-1727-4ca9-bf1a-f5e925159e25"
   },
   "outputs": [
    {
     "name": "stdout",
     "output_type": "stream",
     "text": [
      "<class 'pandas.core.frame.DataFrame'>\n",
      "RangeIndex: 34403 entries, 0 to 34402\n",
      "Data columns (total 7 columns):\n",
      " #   Column                  Non-Null Count  Dtype \n",
      "---  ------                  --------------  ----- \n",
      " 0   msno                    34403 non-null  object\n",
      " 1   city                    34403 non-null  int64 \n",
      " 2   bd                      34403 non-null  int64 \n",
      " 3   gender                  14501 non-null  object\n",
      " 4   registered_via          34403 non-null  int64 \n",
      " 5   registration_init_time  34403 non-null  int64 \n",
      " 6   expiration_date         34403 non-null  int64 \n",
      "dtypes: int64(5), object(2)\n",
      "memory usage: 1.8+ MB\n"
     ]
    }
   ],
   "source": [
    "mbers.info()"
   ]
  },
  {
   "cell_type": "code",
   "execution_count": null,
   "metadata": {
    "colab": {
     "base_uri": "https://localhost:8080/",
     "height": 300
    },
    "executionInfo": {
     "elapsed": 23,
     "status": "ok",
     "timestamp": 1650998795442,
     "user": {
      "displayName": "Harsh Bansal",
      "userId": "14022242986795664987"
     },
     "user_tz": -330
    },
    "id": "bQl9fGmjIXOU",
    "outputId": "9a8b5665-79e1-48db-bf92-1499784b7262"
   },
   "outputs": [
    {
     "data": {
      "text/html": [
       "\n",
       "  <div id=\"df-ecfbcf52-aa0c-4827-b305-496b0e4fd24b\">\n",
       "    <div class=\"colab-df-container\">\n",
       "      <div>\n",
       "<style scoped>\n",
       "    .dataframe tbody tr th:only-of-type {\n",
       "        vertical-align: middle;\n",
       "    }\n",
       "\n",
       "    .dataframe tbody tr th {\n",
       "        vertical-align: top;\n",
       "    }\n",
       "\n",
       "    .dataframe thead th {\n",
       "        text-align: right;\n",
       "    }\n",
       "</style>\n",
       "<table border=\"1\" class=\"dataframe\">\n",
       "  <thead>\n",
       "    <tr style=\"text-align: right;\">\n",
       "      <th></th>\n",
       "      <th>city</th>\n",
       "      <th>bd</th>\n",
       "      <th>registered_via</th>\n",
       "      <th>registration_init_time</th>\n",
       "      <th>expiration_date</th>\n",
       "    </tr>\n",
       "  </thead>\n",
       "  <tbody>\n",
       "    <tr>\n",
       "      <th>count</th>\n",
       "      <td>34403.000000</td>\n",
       "      <td>34403.000000</td>\n",
       "      <td>34403.000000</td>\n",
       "      <td>3.440300e+04</td>\n",
       "      <td>3.440300e+04</td>\n",
       "    </tr>\n",
       "    <tr>\n",
       "      <th>mean</th>\n",
       "      <td>5.371276</td>\n",
       "      <td>12.280935</td>\n",
       "      <td>5.953376</td>\n",
       "      <td>2.013994e+07</td>\n",
       "      <td>2.016901e+07</td>\n",
       "    </tr>\n",
       "    <tr>\n",
       "      <th>std</th>\n",
       "      <td>6.243929</td>\n",
       "      <td>18.170251</td>\n",
       "      <td>2.287534</td>\n",
       "      <td>2.954015e+04</td>\n",
       "      <td>7.320925e+03</td>\n",
       "    </tr>\n",
       "    <tr>\n",
       "      <th>min</th>\n",
       "      <td>1.000000</td>\n",
       "      <td>-43.000000</td>\n",
       "      <td>3.000000</td>\n",
       "      <td>2.004033e+07</td>\n",
       "      <td>1.970010e+07</td>\n",
       "    </tr>\n",
       "    <tr>\n",
       "      <th>25%</th>\n",
       "      <td>1.000000</td>\n",
       "      <td>0.000000</td>\n",
       "      <td>4.000000</td>\n",
       "      <td>2.012103e+07</td>\n",
       "      <td>2.017020e+07</td>\n",
       "    </tr>\n",
       "    <tr>\n",
       "      <th>50%</th>\n",
       "      <td>1.000000</td>\n",
       "      <td>0.000000</td>\n",
       "      <td>7.000000</td>\n",
       "      <td>2.015090e+07</td>\n",
       "      <td>2.017091e+07</td>\n",
       "    </tr>\n",
       "    <tr>\n",
       "      <th>75%</th>\n",
       "      <td>10.000000</td>\n",
       "      <td>25.000000</td>\n",
       "      <td>9.000000</td>\n",
       "      <td>2.016110e+07</td>\n",
       "      <td>2.017093e+07</td>\n",
       "    </tr>\n",
       "    <tr>\n",
       "      <th>max</th>\n",
       "      <td>22.000000</td>\n",
       "      <td>1051.000000</td>\n",
       "      <td>16.000000</td>\n",
       "      <td>2.017023e+07</td>\n",
       "      <td>2.020102e+07</td>\n",
       "    </tr>\n",
       "  </tbody>\n",
       "</table>\n",
       "</div>\n",
       "      <button class=\"colab-df-convert\" onclick=\"convertToInteractive('df-ecfbcf52-aa0c-4827-b305-496b0e4fd24b')\"\n",
       "              title=\"Convert this dataframe to an interactive table.\"\n",
       "              style=\"display:none;\">\n",
       "        \n",
       "  <svg xmlns=\"http://www.w3.org/2000/svg\" height=\"24px\"viewBox=\"0 0 24 24\"\n",
       "       width=\"24px\">\n",
       "    <path d=\"M0 0h24v24H0V0z\" fill=\"none\"/>\n",
       "    <path d=\"M18.56 5.44l.94 2.06.94-2.06 2.06-.94-2.06-.94-.94-2.06-.94 2.06-2.06.94zm-11 1L8.5 8.5l.94-2.06 2.06-.94-2.06-.94L8.5 2.5l-.94 2.06-2.06.94zm10 10l.94 2.06.94-2.06 2.06-.94-2.06-.94-.94-2.06-.94 2.06-2.06.94z\"/><path d=\"M17.41 7.96l-1.37-1.37c-.4-.4-.92-.59-1.43-.59-.52 0-1.04.2-1.43.59L10.3 9.45l-7.72 7.72c-.78.78-.78 2.05 0 2.83L4 21.41c.39.39.9.59 1.41.59.51 0 1.02-.2 1.41-.59l7.78-7.78 2.81-2.81c.8-.78.8-2.07 0-2.86zM5.41 20L4 18.59l7.72-7.72 1.47 1.35L5.41 20z\"/>\n",
       "  </svg>\n",
       "      </button>\n",
       "      \n",
       "  <style>\n",
       "    .colab-df-container {\n",
       "      display:flex;\n",
       "      flex-wrap:wrap;\n",
       "      gap: 12px;\n",
       "    }\n",
       "\n",
       "    .colab-df-convert {\n",
       "      background-color: #E8F0FE;\n",
       "      border: none;\n",
       "      border-radius: 50%;\n",
       "      cursor: pointer;\n",
       "      display: none;\n",
       "      fill: #1967D2;\n",
       "      height: 32px;\n",
       "      padding: 0 0 0 0;\n",
       "      width: 32px;\n",
       "    }\n",
       "\n",
       "    .colab-df-convert:hover {\n",
       "      background-color: #E2EBFA;\n",
       "      box-shadow: 0px 1px 2px rgba(60, 64, 67, 0.3), 0px 1px 3px 1px rgba(60, 64, 67, 0.15);\n",
       "      fill: #174EA6;\n",
       "    }\n",
       "\n",
       "    [theme=dark] .colab-df-convert {\n",
       "      background-color: #3B4455;\n",
       "      fill: #D2E3FC;\n",
       "    }\n",
       "\n",
       "    [theme=dark] .colab-df-convert:hover {\n",
       "      background-color: #434B5C;\n",
       "      box-shadow: 0px 1px 3px 1px rgba(0, 0, 0, 0.15);\n",
       "      filter: drop-shadow(0px 1px 2px rgba(0, 0, 0, 0.3));\n",
       "      fill: #FFFFFF;\n",
       "    }\n",
       "  </style>\n",
       "\n",
       "      <script>\n",
       "        const buttonEl =\n",
       "          document.querySelector('#df-ecfbcf52-aa0c-4827-b305-496b0e4fd24b button.colab-df-convert');\n",
       "        buttonEl.style.display =\n",
       "          google.colab.kernel.accessAllowed ? 'block' : 'none';\n",
       "\n",
       "        async function convertToInteractive(key) {\n",
       "          const element = document.querySelector('#df-ecfbcf52-aa0c-4827-b305-496b0e4fd24b');\n",
       "          const dataTable =\n",
       "            await google.colab.kernel.invokeFunction('convertToInteractive',\n",
       "                                                     [key], {});\n",
       "          if (!dataTable) return;\n",
       "\n",
       "          const docLinkHtml = 'Like what you see? Visit the ' +\n",
       "            '<a target=\"_blank\" href=https://colab.research.google.com/notebooks/data_table.ipynb>data table notebook</a>'\n",
       "            + ' to learn more about interactive tables.';\n",
       "          element.innerHTML = '';\n",
       "          dataTable['output_type'] = 'display_data';\n",
       "          await google.colab.output.renderOutput(dataTable, element);\n",
       "          const docLink = document.createElement('div');\n",
       "          docLink.innerHTML = docLinkHtml;\n",
       "          element.appendChild(docLink);\n",
       "        }\n",
       "      </script>\n",
       "    </div>\n",
       "  </div>\n",
       "  "
      ],
      "text/plain": [
       "               city            bd  registered_via  registration_init_time  \\\n",
       "count  34403.000000  34403.000000    34403.000000            3.440300e+04   \n",
       "mean       5.371276     12.280935        5.953376            2.013994e+07   \n",
       "std        6.243929     18.170251        2.287534            2.954015e+04   \n",
       "min        1.000000    -43.000000        3.000000            2.004033e+07   \n",
       "25%        1.000000      0.000000        4.000000            2.012103e+07   \n",
       "50%        1.000000      0.000000        7.000000            2.015090e+07   \n",
       "75%       10.000000     25.000000        9.000000            2.016110e+07   \n",
       "max       22.000000   1051.000000       16.000000            2.017023e+07   \n",
       "\n",
       "       expiration_date  \n",
       "count     3.440300e+04  \n",
       "mean      2.016901e+07  \n",
       "std       7.320925e+03  \n",
       "min       1.970010e+07  \n",
       "25%       2.017020e+07  \n",
       "50%       2.017091e+07  \n",
       "75%       2.017093e+07  \n",
       "max       2.020102e+07  "
      ]
     },
     "execution_count": 70,
     "metadata": {},
     "output_type": "execute_result"
    }
   ],
   "source": [
    "mbers.describe()"
   ]
  },
  {
   "cell_type": "code",
   "execution_count": null,
   "metadata": {
    "colab": {
     "base_uri": "https://localhost:8080/"
    },
    "executionInfo": {
     "elapsed": 24,
     "status": "ok",
     "timestamp": 1650998795444,
     "user": {
      "displayName": "Harsh Bansal",
      "userId": "14022242986795664987"
     },
     "user_tz": -330
    },
    "id": "OP0wAP65IZKG",
    "outputId": "e1386541-3fdf-4ec1-f2e1-f321910919bb"
   },
   "outputs": [
    {
     "data": {
      "text/plain": [
       "msno                          0\n",
       "city                          0\n",
       "bd                            0\n",
       "gender                    19902\n",
       "registered_via                0\n",
       "registration_init_time        0\n",
       "expiration_date               0\n",
       "dtype: int64"
      ]
     },
     "execution_count": 71,
     "metadata": {},
     "output_type": "execute_result"
    }
   ],
   "source": [
    "mbers.isnull().sum()"
   ]
  },
  {
   "cell_type": "code",
   "execution_count": null,
   "metadata": {
    "colab": {
     "base_uri": "https://localhost:8080/",
     "height": 206
    },
    "executionInfo": {
     "elapsed": 5892,
     "status": "ok",
     "timestamp": 1650998801317,
     "user": {
      "displayName": "Harsh Bansal",
      "userId": "14022242986795664987"
     },
     "user_tz": -330
    },
    "id": "tWVxjZ9KIfrR",
    "outputId": "017673d4-5ffc-4221-98c6-3c104a9e096c"
   },
   "outputs": [
    {
     "data": {
      "text/html": [
       "\n",
       "  <div id=\"df-311ce942-98b8-4c22-b5ec-3000da17b628\">\n",
       "    <div class=\"colab-df-container\">\n",
       "      <div>\n",
       "<style scoped>\n",
       "    .dataframe tbody tr th:only-of-type {\n",
       "        vertical-align: middle;\n",
       "    }\n",
       "\n",
       "    .dataframe tbody tr th {\n",
       "        vertical-align: top;\n",
       "    }\n",
       "\n",
       "    .dataframe thead th {\n",
       "        text-align: right;\n",
       "    }\n",
       "</style>\n",
       "<table border=\"1\" class=\"dataframe\">\n",
       "  <thead>\n",
       "    <tr style=\"text-align: right;\">\n",
       "      <th></th>\n",
       "      <th>song_id</th>\n",
       "      <th>song_length</th>\n",
       "      <th>genre_ids</th>\n",
       "      <th>artist_name</th>\n",
       "      <th>composer</th>\n",
       "      <th>lyricist</th>\n",
       "      <th>language</th>\n",
       "    </tr>\n",
       "  </thead>\n",
       "  <tbody>\n",
       "    <tr>\n",
       "      <th>0</th>\n",
       "      <td>CXoTN1eb7AI+DntdU1vbcwGRV4SCIDxZu+YD8JP8r4E=</td>\n",
       "      <td>247640</td>\n",
       "      <td>465</td>\n",
       "      <td>張信哲 (Jeff Chang)</td>\n",
       "      <td>董貞</td>\n",
       "      <td>何啟弘</td>\n",
       "      <td>3.0</td>\n",
       "    </tr>\n",
       "    <tr>\n",
       "      <th>1</th>\n",
       "      <td>o0kFgae9QtnYgRkVPqLJwa05zIhRlUjfF7O1tDw0ZDU=</td>\n",
       "      <td>197328</td>\n",
       "      <td>444</td>\n",
       "      <td>BLACKPINK</td>\n",
       "      <td>TEDDY|  FUTURE BOUNCE|  Bekuh BOOM</td>\n",
       "      <td>TEDDY</td>\n",
       "      <td>31.0</td>\n",
       "    </tr>\n",
       "    <tr>\n",
       "      <th>2</th>\n",
       "      <td>DwVvVurfpuz+XPuFvucclVQEyPqcpUkHR0ne1RQzPs0=</td>\n",
       "      <td>231781</td>\n",
       "      <td>465</td>\n",
       "      <td>SUPER JUNIOR</td>\n",
       "      <td>NaN</td>\n",
       "      <td>NaN</td>\n",
       "      <td>31.0</td>\n",
       "    </tr>\n",
       "    <tr>\n",
       "      <th>3</th>\n",
       "      <td>dKMBWoZyScdxSkihKG+Vf47nc18N9q4m58+b4e7dSSE=</td>\n",
       "      <td>273554</td>\n",
       "      <td>465</td>\n",
       "      <td>S.H.E</td>\n",
       "      <td>湯小康</td>\n",
       "      <td>徐世珍</td>\n",
       "      <td>3.0</td>\n",
       "    </tr>\n",
       "    <tr>\n",
       "      <th>4</th>\n",
       "      <td>W3bqWd3T+VeHFzHAUfARgW9AvVRaF4N5Yzm4Mr6Eo/o=</td>\n",
       "      <td>140329</td>\n",
       "      <td>726</td>\n",
       "      <td>貴族精選</td>\n",
       "      <td>Traditional</td>\n",
       "      <td>Traditional</td>\n",
       "      <td>52.0</td>\n",
       "    </tr>\n",
       "  </tbody>\n",
       "</table>\n",
       "</div>\n",
       "      <button class=\"colab-df-convert\" onclick=\"convertToInteractive('df-311ce942-98b8-4c22-b5ec-3000da17b628')\"\n",
       "              title=\"Convert this dataframe to an interactive table.\"\n",
       "              style=\"display:none;\">\n",
       "        \n",
       "  <svg xmlns=\"http://www.w3.org/2000/svg\" height=\"24px\"viewBox=\"0 0 24 24\"\n",
       "       width=\"24px\">\n",
       "    <path d=\"M0 0h24v24H0V0z\" fill=\"none\"/>\n",
       "    <path d=\"M18.56 5.44l.94 2.06.94-2.06 2.06-.94-2.06-.94-.94-2.06-.94 2.06-2.06.94zm-11 1L8.5 8.5l.94-2.06 2.06-.94-2.06-.94L8.5 2.5l-.94 2.06-2.06.94zm10 10l.94 2.06.94-2.06 2.06-.94-2.06-.94-.94-2.06-.94 2.06-2.06.94z\"/><path d=\"M17.41 7.96l-1.37-1.37c-.4-.4-.92-.59-1.43-.59-.52 0-1.04.2-1.43.59L10.3 9.45l-7.72 7.72c-.78.78-.78 2.05 0 2.83L4 21.41c.39.39.9.59 1.41.59.51 0 1.02-.2 1.41-.59l7.78-7.78 2.81-2.81c.8-.78.8-2.07 0-2.86zM5.41 20L4 18.59l7.72-7.72 1.47 1.35L5.41 20z\"/>\n",
       "  </svg>\n",
       "      </button>\n",
       "      \n",
       "  <style>\n",
       "    .colab-df-container {\n",
       "      display:flex;\n",
       "      flex-wrap:wrap;\n",
       "      gap: 12px;\n",
       "    }\n",
       "\n",
       "    .colab-df-convert {\n",
       "      background-color: #E8F0FE;\n",
       "      border: none;\n",
       "      border-radius: 50%;\n",
       "      cursor: pointer;\n",
       "      display: none;\n",
       "      fill: #1967D2;\n",
       "      height: 32px;\n",
       "      padding: 0 0 0 0;\n",
       "      width: 32px;\n",
       "    }\n",
       "\n",
       "    .colab-df-convert:hover {\n",
       "      background-color: #E2EBFA;\n",
       "      box-shadow: 0px 1px 2px rgba(60, 64, 67, 0.3), 0px 1px 3px 1px rgba(60, 64, 67, 0.15);\n",
       "      fill: #174EA6;\n",
       "    }\n",
       "\n",
       "    [theme=dark] .colab-df-convert {\n",
       "      background-color: #3B4455;\n",
       "      fill: #D2E3FC;\n",
       "    }\n",
       "\n",
       "    [theme=dark] .colab-df-convert:hover {\n",
       "      background-color: #434B5C;\n",
       "      box-shadow: 0px 1px 3px 1px rgba(0, 0, 0, 0.15);\n",
       "      filter: drop-shadow(0px 1px 2px rgba(0, 0, 0, 0.3));\n",
       "      fill: #FFFFFF;\n",
       "    }\n",
       "  </style>\n",
       "\n",
       "      <script>\n",
       "        const buttonEl =\n",
       "          document.querySelector('#df-311ce942-98b8-4c22-b5ec-3000da17b628 button.colab-df-convert');\n",
       "        buttonEl.style.display =\n",
       "          google.colab.kernel.accessAllowed ? 'block' : 'none';\n",
       "\n",
       "        async function convertToInteractive(key) {\n",
       "          const element = document.querySelector('#df-311ce942-98b8-4c22-b5ec-3000da17b628');\n",
       "          const dataTable =\n",
       "            await google.colab.kernel.invokeFunction('convertToInteractive',\n",
       "                                                     [key], {});\n",
       "          if (!dataTable) return;\n",
       "\n",
       "          const docLinkHtml = 'Like what you see? Visit the ' +\n",
       "            '<a target=\"_blank\" href=https://colab.research.google.com/notebooks/data_table.ipynb>data table notebook</a>'\n",
       "            + ' to learn more about interactive tables.';\n",
       "          element.innerHTML = '';\n",
       "          dataTable['output_type'] = 'display_data';\n",
       "          await google.colab.output.renderOutput(dataTable, element);\n",
       "          const docLink = document.createElement('div');\n",
       "          docLink.innerHTML = docLinkHtml;\n",
       "          element.appendChild(docLink);\n",
       "        }\n",
       "      </script>\n",
       "    </div>\n",
       "  </div>\n",
       "  "
      ],
      "text/plain": [
       "                                        song_id  song_length genre_ids  \\\n",
       "0  CXoTN1eb7AI+DntdU1vbcwGRV4SCIDxZu+YD8JP8r4E=       247640       465   \n",
       "1  o0kFgae9QtnYgRkVPqLJwa05zIhRlUjfF7O1tDw0ZDU=       197328       444   \n",
       "2  DwVvVurfpuz+XPuFvucclVQEyPqcpUkHR0ne1RQzPs0=       231781       465   \n",
       "3  dKMBWoZyScdxSkihKG+Vf47nc18N9q4m58+b4e7dSSE=       273554       465   \n",
       "4  W3bqWd3T+VeHFzHAUfARgW9AvVRaF4N5Yzm4Mr6Eo/o=       140329       726   \n",
       "\n",
       "        artist_name                            composer     lyricist  language  \n",
       "0  張信哲 (Jeff Chang)                                  董貞          何啟弘       3.0  \n",
       "1         BLACKPINK  TEDDY|  FUTURE BOUNCE|  Bekuh BOOM        TEDDY      31.0  \n",
       "2      SUPER JUNIOR                                 NaN          NaN      31.0  \n",
       "3             S.H.E                                 湯小康          徐世珍       3.0  \n",
       "4              貴族精選                         Traditional  Traditional      52.0  "
      ]
     },
     "execution_count": 72,
     "metadata": {},
     "output_type": "execute_result"
    }
   ],
   "source": [
    "songs = pd.read_csv('songs.csv')\n",
    "songs.head()"
   ]
  },
  {
   "cell_type": "code",
   "execution_count": null,
   "metadata": {
    "colab": {
     "base_uri": "https://localhost:8080/"
    },
    "executionInfo": {
     "elapsed": 25,
     "status": "ok",
     "timestamp": 1650998801318,
     "user": {
      "displayName": "Harsh Bansal",
      "userId": "14022242986795664987"
     },
     "user_tz": -330
    },
    "id": "P6ISr30kIq-o",
    "outputId": "271b7abb-db41-46b7-aa7e-26cde8dd68d8"
   },
   "outputs": [
    {
     "name": "stdout",
     "output_type": "stream",
     "text": [
      "<class 'pandas.core.frame.DataFrame'>\n",
      "RangeIndex: 2296320 entries, 0 to 2296319\n",
      "Data columns (total 7 columns):\n",
      " #   Column       Dtype  \n",
      "---  ------       -----  \n",
      " 0   song_id      object \n",
      " 1   song_length  int64  \n",
      " 2   genre_ids    object \n",
      " 3   artist_name  object \n",
      " 4   composer     object \n",
      " 5   lyricist     object \n",
      " 6   language     float64\n",
      "dtypes: float64(1), int64(1), object(5)\n",
      "memory usage: 122.6+ MB\n"
     ]
    }
   ],
   "source": [
    "songs.info()"
   ]
  },
  {
   "cell_type": "code",
   "execution_count": null,
   "metadata": {
    "colab": {
     "base_uri": "https://localhost:8080/",
     "height": 300
    },
    "executionInfo": {
     "elapsed": 665,
     "status": "ok",
     "timestamp": 1650998801965,
     "user": {
      "displayName": "Harsh Bansal",
      "userId": "14022242986795664987"
     },
     "user_tz": -330
    },
    "id": "1tYsSMOyIs5g",
    "outputId": "080a341f-de66-4cee-b82e-26bdde2346c9"
   },
   "outputs": [
    {
     "data": {
      "text/html": [
       "\n",
       "  <div id=\"df-5c1f961b-c450-4932-91f8-f628b3526d23\">\n",
       "    <div class=\"colab-df-container\">\n",
       "      <div>\n",
       "<style scoped>\n",
       "    .dataframe tbody tr th:only-of-type {\n",
       "        vertical-align: middle;\n",
       "    }\n",
       "\n",
       "    .dataframe tbody tr th {\n",
       "        vertical-align: top;\n",
       "    }\n",
       "\n",
       "    .dataframe thead th {\n",
       "        text-align: right;\n",
       "    }\n",
       "</style>\n",
       "<table border=\"1\" class=\"dataframe\">\n",
       "  <thead>\n",
       "    <tr style=\"text-align: right;\">\n",
       "      <th></th>\n",
       "      <th>song_length</th>\n",
       "      <th>language</th>\n",
       "    </tr>\n",
       "  </thead>\n",
       "  <tbody>\n",
       "    <tr>\n",
       "      <th>count</th>\n",
       "      <td>2.296320e+06</td>\n",
       "      <td>2.296319e+06</td>\n",
       "    </tr>\n",
       "    <tr>\n",
       "      <th>mean</th>\n",
       "      <td>2.469935e+05</td>\n",
       "      <td>3.237800e+01</td>\n",
       "    </tr>\n",
       "    <tr>\n",
       "      <th>std</th>\n",
       "      <td>1.609200e+05</td>\n",
       "      <td>2.433241e+01</td>\n",
       "    </tr>\n",
       "    <tr>\n",
       "      <th>min</th>\n",
       "      <td>1.850000e+02</td>\n",
       "      <td>-1.000000e+00</td>\n",
       "    </tr>\n",
       "    <tr>\n",
       "      <th>25%</th>\n",
       "      <td>1.836000e+05</td>\n",
       "      <td>-1.000000e+00</td>\n",
       "    </tr>\n",
       "    <tr>\n",
       "      <th>50%</th>\n",
       "      <td>2.266270e+05</td>\n",
       "      <td>5.200000e+01</td>\n",
       "    </tr>\n",
       "    <tr>\n",
       "      <th>75%</th>\n",
       "      <td>2.772690e+05</td>\n",
       "      <td>5.200000e+01</td>\n",
       "    </tr>\n",
       "    <tr>\n",
       "      <th>max</th>\n",
       "      <td>1.217385e+07</td>\n",
       "      <td>5.900000e+01</td>\n",
       "    </tr>\n",
       "  </tbody>\n",
       "</table>\n",
       "</div>\n",
       "      <button class=\"colab-df-convert\" onclick=\"convertToInteractive('df-5c1f961b-c450-4932-91f8-f628b3526d23')\"\n",
       "              title=\"Convert this dataframe to an interactive table.\"\n",
       "              style=\"display:none;\">\n",
       "        \n",
       "  <svg xmlns=\"http://www.w3.org/2000/svg\" height=\"24px\"viewBox=\"0 0 24 24\"\n",
       "       width=\"24px\">\n",
       "    <path d=\"M0 0h24v24H0V0z\" fill=\"none\"/>\n",
       "    <path d=\"M18.56 5.44l.94 2.06.94-2.06 2.06-.94-2.06-.94-.94-2.06-.94 2.06-2.06.94zm-11 1L8.5 8.5l.94-2.06 2.06-.94-2.06-.94L8.5 2.5l-.94 2.06-2.06.94zm10 10l.94 2.06.94-2.06 2.06-.94-2.06-.94-.94-2.06-.94 2.06-2.06.94z\"/><path d=\"M17.41 7.96l-1.37-1.37c-.4-.4-.92-.59-1.43-.59-.52 0-1.04.2-1.43.59L10.3 9.45l-7.72 7.72c-.78.78-.78 2.05 0 2.83L4 21.41c.39.39.9.59 1.41.59.51 0 1.02-.2 1.41-.59l7.78-7.78 2.81-2.81c.8-.78.8-2.07 0-2.86zM5.41 20L4 18.59l7.72-7.72 1.47 1.35L5.41 20z\"/>\n",
       "  </svg>\n",
       "      </button>\n",
       "      \n",
       "  <style>\n",
       "    .colab-df-container {\n",
       "      display:flex;\n",
       "      flex-wrap:wrap;\n",
       "      gap: 12px;\n",
       "    }\n",
       "\n",
       "    .colab-df-convert {\n",
       "      background-color: #E8F0FE;\n",
       "      border: none;\n",
       "      border-radius: 50%;\n",
       "      cursor: pointer;\n",
       "      display: none;\n",
       "      fill: #1967D2;\n",
       "      height: 32px;\n",
       "      padding: 0 0 0 0;\n",
       "      width: 32px;\n",
       "    }\n",
       "\n",
       "    .colab-df-convert:hover {\n",
       "      background-color: #E2EBFA;\n",
       "      box-shadow: 0px 1px 2px rgba(60, 64, 67, 0.3), 0px 1px 3px 1px rgba(60, 64, 67, 0.15);\n",
       "      fill: #174EA6;\n",
       "    }\n",
       "\n",
       "    [theme=dark] .colab-df-convert {\n",
       "      background-color: #3B4455;\n",
       "      fill: #D2E3FC;\n",
       "    }\n",
       "\n",
       "    [theme=dark] .colab-df-convert:hover {\n",
       "      background-color: #434B5C;\n",
       "      box-shadow: 0px 1px 3px 1px rgba(0, 0, 0, 0.15);\n",
       "      filter: drop-shadow(0px 1px 2px rgba(0, 0, 0, 0.3));\n",
       "      fill: #FFFFFF;\n",
       "    }\n",
       "  </style>\n",
       "\n",
       "      <script>\n",
       "        const buttonEl =\n",
       "          document.querySelector('#df-5c1f961b-c450-4932-91f8-f628b3526d23 button.colab-df-convert');\n",
       "        buttonEl.style.display =\n",
       "          google.colab.kernel.accessAllowed ? 'block' : 'none';\n",
       "\n",
       "        async function convertToInteractive(key) {\n",
       "          const element = document.querySelector('#df-5c1f961b-c450-4932-91f8-f628b3526d23');\n",
       "          const dataTable =\n",
       "            await google.colab.kernel.invokeFunction('convertToInteractive',\n",
       "                                                     [key], {});\n",
       "          if (!dataTable) return;\n",
       "\n",
       "          const docLinkHtml = 'Like what you see? Visit the ' +\n",
       "            '<a target=\"_blank\" href=https://colab.research.google.com/notebooks/data_table.ipynb>data table notebook</a>'\n",
       "            + ' to learn more about interactive tables.';\n",
       "          element.innerHTML = '';\n",
       "          dataTable['output_type'] = 'display_data';\n",
       "          await google.colab.output.renderOutput(dataTable, element);\n",
       "          const docLink = document.createElement('div');\n",
       "          docLink.innerHTML = docLinkHtml;\n",
       "          element.appendChild(docLink);\n",
       "        }\n",
       "      </script>\n",
       "    </div>\n",
       "  </div>\n",
       "  "
      ],
      "text/plain": [
       "        song_length      language\n",
       "count  2.296320e+06  2.296319e+06\n",
       "mean   2.469935e+05  3.237800e+01\n",
       "std    1.609200e+05  2.433241e+01\n",
       "min    1.850000e+02 -1.000000e+00\n",
       "25%    1.836000e+05 -1.000000e+00\n",
       "50%    2.266270e+05  5.200000e+01\n",
       "75%    2.772690e+05  5.200000e+01\n",
       "max    1.217385e+07  5.900000e+01"
      ]
     },
     "execution_count": 74,
     "metadata": {},
     "output_type": "execute_result"
    }
   ],
   "source": [
    "songs.describe()"
   ]
  },
  {
   "cell_type": "code",
   "execution_count": null,
   "metadata": {
    "colab": {
     "base_uri": "https://localhost:8080/"
    },
    "executionInfo": {
     "elapsed": 385,
     "status": "ok",
     "timestamp": 1650998802332,
     "user": {
      "displayName": "Harsh Bansal",
      "userId": "14022242986795664987"
     },
     "user_tz": -330
    },
    "id": "anpwbI2MIuWn",
    "outputId": "1871d33e-3e23-4b08-a926-727636961eb4"
   },
   "outputs": [
    {
     "data": {
      "text/plain": [
       "song_id              0\n",
       "song_length          0\n",
       "genre_ids        94116\n",
       "artist_name          0\n",
       "composer       1071354\n",
       "lyricist       1945268\n",
       "language             1\n",
       "dtype: int64"
      ]
     },
     "execution_count": 75,
     "metadata": {},
     "output_type": "execute_result"
    }
   ],
   "source": [
    "songs.isnull().sum()"
   ]
  },
  {
   "cell_type": "code",
   "execution_count": null,
   "metadata": {
    "colab": {
     "base_uri": "https://localhost:8080/",
     "height": 206
    },
    "executionInfo": {
     "elapsed": 6479,
     "status": "ok",
     "timestamp": 1650998808808,
     "user": {
      "displayName": "Harsh Bansal",
      "userId": "14022242986795664987"
     },
     "user_tz": -330
    },
    "id": "ExR1OA4xIxg3",
    "outputId": "bc57a3fd-961a-43f2-e929-1b0765524c18"
   },
   "outputs": [
    {
     "data": {
      "text/html": [
       "\n",
       "  <div id=\"df-942b649c-c4e8-4981-8a79-46f0ddf5054d\">\n",
       "    <div class=\"colab-df-container\">\n",
       "      <div>\n",
       "<style scoped>\n",
       "    .dataframe tbody tr th:only-of-type {\n",
       "        vertical-align: middle;\n",
       "    }\n",
       "\n",
       "    .dataframe tbody tr th {\n",
       "        vertical-align: top;\n",
       "    }\n",
       "\n",
       "    .dataframe thead th {\n",
       "        text-align: right;\n",
       "    }\n",
       "</style>\n",
       "<table border=\"1\" class=\"dataframe\">\n",
       "  <thead>\n",
       "    <tr style=\"text-align: right;\">\n",
       "      <th></th>\n",
       "      <th>song_id</th>\n",
       "      <th>name</th>\n",
       "      <th>isrc</th>\n",
       "    </tr>\n",
       "  </thead>\n",
       "  <tbody>\n",
       "    <tr>\n",
       "      <th>0</th>\n",
       "      <td>LP7pLJoJFBvyuUwvu+oLzjT+bI+UeBPURCecJsX1jjs=</td>\n",
       "      <td>我們</td>\n",
       "      <td>TWUM71200043</td>\n",
       "    </tr>\n",
       "    <tr>\n",
       "      <th>1</th>\n",
       "      <td>ClazTFnk6r0Bnuie44bocdNMM3rdlrq0bCGAsGUWcHE=</td>\n",
       "      <td>Let Me Love You</td>\n",
       "      <td>QMZSY1600015</td>\n",
       "    </tr>\n",
       "    <tr>\n",
       "      <th>2</th>\n",
       "      <td>u2ja/bZE3zhCGxvbbOB3zOoUjx27u40cf5g09UXMoKQ=</td>\n",
       "      <td>原諒我</td>\n",
       "      <td>TWA530887303</td>\n",
       "    </tr>\n",
       "    <tr>\n",
       "      <th>3</th>\n",
       "      <td>92Fqsy0+p6+RHe2EoLKjHahORHR1Kq1TBJoClW9v+Ts=</td>\n",
       "      <td>Classic</td>\n",
       "      <td>USSM11301446</td>\n",
       "    </tr>\n",
       "    <tr>\n",
       "      <th>4</th>\n",
       "      <td>0QFmz/+rJy1Q56C1DuYqT9hKKqi5TUqx0sN0IwvoHrw=</td>\n",
       "      <td>愛投羅網</td>\n",
       "      <td>TWA471306001</td>\n",
       "    </tr>\n",
       "  </tbody>\n",
       "</table>\n",
       "</div>\n",
       "      <button class=\"colab-df-convert\" onclick=\"convertToInteractive('df-942b649c-c4e8-4981-8a79-46f0ddf5054d')\"\n",
       "              title=\"Convert this dataframe to an interactive table.\"\n",
       "              style=\"display:none;\">\n",
       "        \n",
       "  <svg xmlns=\"http://www.w3.org/2000/svg\" height=\"24px\"viewBox=\"0 0 24 24\"\n",
       "       width=\"24px\">\n",
       "    <path d=\"M0 0h24v24H0V0z\" fill=\"none\"/>\n",
       "    <path d=\"M18.56 5.44l.94 2.06.94-2.06 2.06-.94-2.06-.94-.94-2.06-.94 2.06-2.06.94zm-11 1L8.5 8.5l.94-2.06 2.06-.94-2.06-.94L8.5 2.5l-.94 2.06-2.06.94zm10 10l.94 2.06.94-2.06 2.06-.94-2.06-.94-.94-2.06-.94 2.06-2.06.94z\"/><path d=\"M17.41 7.96l-1.37-1.37c-.4-.4-.92-.59-1.43-.59-.52 0-1.04.2-1.43.59L10.3 9.45l-7.72 7.72c-.78.78-.78 2.05 0 2.83L4 21.41c.39.39.9.59 1.41.59.51 0 1.02-.2 1.41-.59l7.78-7.78 2.81-2.81c.8-.78.8-2.07 0-2.86zM5.41 20L4 18.59l7.72-7.72 1.47 1.35L5.41 20z\"/>\n",
       "  </svg>\n",
       "      </button>\n",
       "      \n",
       "  <style>\n",
       "    .colab-df-container {\n",
       "      display:flex;\n",
       "      flex-wrap:wrap;\n",
       "      gap: 12px;\n",
       "    }\n",
       "\n",
       "    .colab-df-convert {\n",
       "      background-color: #E8F0FE;\n",
       "      border: none;\n",
       "      border-radius: 50%;\n",
       "      cursor: pointer;\n",
       "      display: none;\n",
       "      fill: #1967D2;\n",
       "      height: 32px;\n",
       "      padding: 0 0 0 0;\n",
       "      width: 32px;\n",
       "    }\n",
       "\n",
       "    .colab-df-convert:hover {\n",
       "      background-color: #E2EBFA;\n",
       "      box-shadow: 0px 1px 2px rgba(60, 64, 67, 0.3), 0px 1px 3px 1px rgba(60, 64, 67, 0.15);\n",
       "      fill: #174EA6;\n",
       "    }\n",
       "\n",
       "    [theme=dark] .colab-df-convert {\n",
       "      background-color: #3B4455;\n",
       "      fill: #D2E3FC;\n",
       "    }\n",
       "\n",
       "    [theme=dark] .colab-df-convert:hover {\n",
       "      background-color: #434B5C;\n",
       "      box-shadow: 0px 1px 3px 1px rgba(0, 0, 0, 0.15);\n",
       "      filter: drop-shadow(0px 1px 2px rgba(0, 0, 0, 0.3));\n",
       "      fill: #FFFFFF;\n",
       "    }\n",
       "  </style>\n",
       "\n",
       "      <script>\n",
       "        const buttonEl =\n",
       "          document.querySelector('#df-942b649c-c4e8-4981-8a79-46f0ddf5054d button.colab-df-convert');\n",
       "        buttonEl.style.display =\n",
       "          google.colab.kernel.accessAllowed ? 'block' : 'none';\n",
       "\n",
       "        async function convertToInteractive(key) {\n",
       "          const element = document.querySelector('#df-942b649c-c4e8-4981-8a79-46f0ddf5054d');\n",
       "          const dataTable =\n",
       "            await google.colab.kernel.invokeFunction('convertToInteractive',\n",
       "                                                     [key], {});\n",
       "          if (!dataTable) return;\n",
       "\n",
       "          const docLinkHtml = 'Like what you see? Visit the ' +\n",
       "            '<a target=\"_blank\" href=https://colab.research.google.com/notebooks/data_table.ipynb>data table notebook</a>'\n",
       "            + ' to learn more about interactive tables.';\n",
       "          element.innerHTML = '';\n",
       "          dataTable['output_type'] = 'display_data';\n",
       "          await google.colab.output.renderOutput(dataTable, element);\n",
       "          const docLink = document.createElement('div');\n",
       "          docLink.innerHTML = docLinkHtml;\n",
       "          element.appendChild(docLink);\n",
       "        }\n",
       "      </script>\n",
       "    </div>\n",
       "  </div>\n",
       "  "
      ],
      "text/plain": [
       "                                        song_id             name          isrc\n",
       "0  LP7pLJoJFBvyuUwvu+oLzjT+bI+UeBPURCecJsX1jjs=               我們  TWUM71200043\n",
       "1  ClazTFnk6r0Bnuie44bocdNMM3rdlrq0bCGAsGUWcHE=  Let Me Love You  QMZSY1600015\n",
       "2  u2ja/bZE3zhCGxvbbOB3zOoUjx27u40cf5g09UXMoKQ=              原諒我  TWA530887303\n",
       "3  92Fqsy0+p6+RHe2EoLKjHahORHR1Kq1TBJoClW9v+Ts=          Classic  USSM11301446\n",
       "4  0QFmz/+rJy1Q56C1DuYqT9hKKqi5TUqx0sN0IwvoHrw=             愛投羅網  TWA471306001"
      ]
     },
     "execution_count": 76,
     "metadata": {},
     "output_type": "execute_result"
    }
   ],
   "source": [
    "sng_exta = pd.read_csv('song_extra_info.csv')\n",
    "sng_exta.head()"
   ]
  },
  {
   "cell_type": "code",
   "execution_count": null,
   "metadata": {
    "colab": {
     "base_uri": "https://localhost:8080/"
    },
    "executionInfo": {
     "elapsed": 21,
     "status": "ok",
     "timestamp": 1650998808813,
     "user": {
      "displayName": "Harsh Bansal",
      "userId": "14022242986795664987"
     },
     "user_tz": -330
    },
    "id": "J4JogJedJDF8",
    "outputId": "74e6200a-674c-4dda-9264-28fe50ec7a48"
   },
   "outputs": [
    {
     "name": "stdout",
     "output_type": "stream",
     "text": [
      "<class 'pandas.core.frame.DataFrame'>\n",
      "RangeIndex: 2295971 entries, 0 to 2295970\n",
      "Data columns (total 3 columns):\n",
      " #   Column   Dtype \n",
      "---  ------   ----- \n",
      " 0   song_id  object\n",
      " 1   name     object\n",
      " 2   isrc     object\n",
      "dtypes: object(3)\n",
      "memory usage: 52.6+ MB\n"
     ]
    }
   ],
   "source": [
    "sng_exta.info()"
   ]
  },
  {
   "cell_type": "code",
   "execution_count": null,
   "metadata": {
    "colab": {
     "base_uri": "https://localhost:8080/",
     "height": 174
    },
    "executionInfo": {
     "elapsed": 7743,
     "status": "ok",
     "timestamp": 1650998816541,
     "user": {
      "displayName": "Harsh Bansal",
      "userId": "14022242986795664987"
     },
     "user_tz": -330
    },
    "id": "Nw5d1heoJFtT",
    "outputId": "4ceb7f24-cae2-4035-cc87-d4328553f823"
   },
   "outputs": [
    {
     "data": {
      "text/html": [
       "\n",
       "  <div id=\"df-de5bb781-0e72-4c04-9dfd-9b4f409ea481\">\n",
       "    <div class=\"colab-df-container\">\n",
       "      <div>\n",
       "<style scoped>\n",
       "    .dataframe tbody tr th:only-of-type {\n",
       "        vertical-align: middle;\n",
       "    }\n",
       "\n",
       "    .dataframe tbody tr th {\n",
       "        vertical-align: top;\n",
       "    }\n",
       "\n",
       "    .dataframe thead th {\n",
       "        text-align: right;\n",
       "    }\n",
       "</style>\n",
       "<table border=\"1\" class=\"dataframe\">\n",
       "  <thead>\n",
       "    <tr style=\"text-align: right;\">\n",
       "      <th></th>\n",
       "      <th>song_id</th>\n",
       "      <th>name</th>\n",
       "      <th>isrc</th>\n",
       "    </tr>\n",
       "  </thead>\n",
       "  <tbody>\n",
       "    <tr>\n",
       "      <th>count</th>\n",
       "      <td>2295971</td>\n",
       "      <td>2295969</td>\n",
       "      <td>2159423</td>\n",
       "    </tr>\n",
       "    <tr>\n",
       "      <th>unique</th>\n",
       "      <td>2295971</td>\n",
       "      <td>1168979</td>\n",
       "      <td>1806825</td>\n",
       "    </tr>\n",
       "    <tr>\n",
       "      <th>top</th>\n",
       "      <td>LP7pLJoJFBvyuUwvu+oLzjT+bI+UeBPURCecJsX1jjs=</td>\n",
       "      <td>Intro</td>\n",
       "      <td>GBPS81518952</td>\n",
       "    </tr>\n",
       "    <tr>\n",
       "      <th>freq</th>\n",
       "      <td>1</td>\n",
       "      <td>1734</td>\n",
       "      <td>207</td>\n",
       "    </tr>\n",
       "  </tbody>\n",
       "</table>\n",
       "</div>\n",
       "      <button class=\"colab-df-convert\" onclick=\"convertToInteractive('df-de5bb781-0e72-4c04-9dfd-9b4f409ea481')\"\n",
       "              title=\"Convert this dataframe to an interactive table.\"\n",
       "              style=\"display:none;\">\n",
       "        \n",
       "  <svg xmlns=\"http://www.w3.org/2000/svg\" height=\"24px\"viewBox=\"0 0 24 24\"\n",
       "       width=\"24px\">\n",
       "    <path d=\"M0 0h24v24H0V0z\" fill=\"none\"/>\n",
       "    <path d=\"M18.56 5.44l.94 2.06.94-2.06 2.06-.94-2.06-.94-.94-2.06-.94 2.06-2.06.94zm-11 1L8.5 8.5l.94-2.06 2.06-.94-2.06-.94L8.5 2.5l-.94 2.06-2.06.94zm10 10l.94 2.06.94-2.06 2.06-.94-2.06-.94-.94-2.06-.94 2.06-2.06.94z\"/><path d=\"M17.41 7.96l-1.37-1.37c-.4-.4-.92-.59-1.43-.59-.52 0-1.04.2-1.43.59L10.3 9.45l-7.72 7.72c-.78.78-.78 2.05 0 2.83L4 21.41c.39.39.9.59 1.41.59.51 0 1.02-.2 1.41-.59l7.78-7.78 2.81-2.81c.8-.78.8-2.07 0-2.86zM5.41 20L4 18.59l7.72-7.72 1.47 1.35L5.41 20z\"/>\n",
       "  </svg>\n",
       "      </button>\n",
       "      \n",
       "  <style>\n",
       "    .colab-df-container {\n",
       "      display:flex;\n",
       "      flex-wrap:wrap;\n",
       "      gap: 12px;\n",
       "    }\n",
       "\n",
       "    .colab-df-convert {\n",
       "      background-color: #E8F0FE;\n",
       "      border: none;\n",
       "      border-radius: 50%;\n",
       "      cursor: pointer;\n",
       "      display: none;\n",
       "      fill: #1967D2;\n",
       "      height: 32px;\n",
       "      padding: 0 0 0 0;\n",
       "      width: 32px;\n",
       "    }\n",
       "\n",
       "    .colab-df-convert:hover {\n",
       "      background-color: #E2EBFA;\n",
       "      box-shadow: 0px 1px 2px rgba(60, 64, 67, 0.3), 0px 1px 3px 1px rgba(60, 64, 67, 0.15);\n",
       "      fill: #174EA6;\n",
       "    }\n",
       "\n",
       "    [theme=dark] .colab-df-convert {\n",
       "      background-color: #3B4455;\n",
       "      fill: #D2E3FC;\n",
       "    }\n",
       "\n",
       "    [theme=dark] .colab-df-convert:hover {\n",
       "      background-color: #434B5C;\n",
       "      box-shadow: 0px 1px 3px 1px rgba(0, 0, 0, 0.15);\n",
       "      filter: drop-shadow(0px 1px 2px rgba(0, 0, 0, 0.3));\n",
       "      fill: #FFFFFF;\n",
       "    }\n",
       "  </style>\n",
       "\n",
       "      <script>\n",
       "        const buttonEl =\n",
       "          document.querySelector('#df-de5bb781-0e72-4c04-9dfd-9b4f409ea481 button.colab-df-convert');\n",
       "        buttonEl.style.display =\n",
       "          google.colab.kernel.accessAllowed ? 'block' : 'none';\n",
       "\n",
       "        async function convertToInteractive(key) {\n",
       "          const element = document.querySelector('#df-de5bb781-0e72-4c04-9dfd-9b4f409ea481');\n",
       "          const dataTable =\n",
       "            await google.colab.kernel.invokeFunction('convertToInteractive',\n",
       "                                                     [key], {});\n",
       "          if (!dataTable) return;\n",
       "\n",
       "          const docLinkHtml = 'Like what you see? Visit the ' +\n",
       "            '<a target=\"_blank\" href=https://colab.research.google.com/notebooks/data_table.ipynb>data table notebook</a>'\n",
       "            + ' to learn more about interactive tables.';\n",
       "          element.innerHTML = '';\n",
       "          dataTable['output_type'] = 'display_data';\n",
       "          await google.colab.output.renderOutput(dataTable, element);\n",
       "          const docLink = document.createElement('div');\n",
       "          docLink.innerHTML = docLinkHtml;\n",
       "          element.appendChild(docLink);\n",
       "        }\n",
       "      </script>\n",
       "    </div>\n",
       "  </div>\n",
       "  "
      ],
      "text/plain": [
       "                                             song_id     name          isrc\n",
       "count                                        2295971  2295969       2159423\n",
       "unique                                       2295971  1168979       1806825\n",
       "top     LP7pLJoJFBvyuUwvu+oLzjT+bI+UeBPURCecJsX1jjs=    Intro  GBPS81518952\n",
       "freq                                               1     1734           207"
      ]
     },
     "execution_count": 78,
     "metadata": {},
     "output_type": "execute_result"
    }
   ],
   "source": [
    "sng_exta.describe()"
   ]
  },
  {
   "cell_type": "code",
   "execution_count": null,
   "metadata": {
    "colab": {
     "base_uri": "https://localhost:8080/"
    },
    "executionInfo": {
     "elapsed": 409,
     "status": "ok",
     "timestamp": 1650998817324,
     "user": {
      "displayName": "Harsh Bansal",
      "userId": "14022242986795664987"
     },
     "user_tz": -330
    },
    "id": "fji6ZlbbJKny",
    "outputId": "3f834c6e-c190-4320-d2ae-3e32b8c95fc3"
   },
   "outputs": [
    {
     "data": {
      "text/plain": [
       "song_id         0\n",
       "name            2\n",
       "isrc       136548\n",
       "dtype: int64"
      ]
     },
     "execution_count": 79,
     "metadata": {},
     "output_type": "execute_result"
    }
   ],
   "source": [
    "sng_exta.isnull().sum()"
   ]
  },
  {
   "cell_type": "code",
   "execution_count": null,
   "metadata": {
    "colab": {
     "base_uri": "https://localhost:8080/",
     "height": 206
    },
    "executionInfo": {
     "elapsed": 8118,
     "status": "ok",
     "timestamp": 1650998825439,
     "user": {
      "displayName": "Harsh Bansal",
      "userId": "14022242986795664987"
     },
     "user_tz": -330
    },
    "id": "2RfSL_WIJXcd",
    "outputId": "9610c8de-3848-430b-d0dc-09bd4d6a0cf9"
   },
   "outputs": [
    {
     "data": {
      "text/html": [
       "\n",
       "  <div id=\"df-d30d5eb2-1aa3-4254-8248-b81dc2057556\">\n",
       "    <div class=\"colab-df-container\">\n",
       "      <div>\n",
       "<style scoped>\n",
       "    .dataframe tbody tr th:only-of-type {\n",
       "        vertical-align: middle;\n",
       "    }\n",
       "\n",
       "    .dataframe tbody tr th {\n",
       "        vertical-align: top;\n",
       "    }\n",
       "\n",
       "    .dataframe thead th {\n",
       "        text-align: right;\n",
       "    }\n",
       "</style>\n",
       "<table border=\"1\" class=\"dataframe\">\n",
       "  <thead>\n",
       "    <tr style=\"text-align: right;\">\n",
       "      <th></th>\n",
       "      <th>msno</th>\n",
       "      <th>song_id</th>\n",
       "      <th>source_system_tab</th>\n",
       "      <th>source_screen_name</th>\n",
       "      <th>source_type</th>\n",
       "      <th>target</th>\n",
       "    </tr>\n",
       "  </thead>\n",
       "  <tbody>\n",
       "    <tr>\n",
       "      <th>0</th>\n",
       "      <td>FGtllVqz18RPiwJj/edr2gV78zirAiY/9SmYvia+kCg=</td>\n",
       "      <td>BBzumQNXUHKdEBOB7mAJuzok+IJA1c2Ryg/yzTF6tik=</td>\n",
       "      <td>explore</td>\n",
       "      <td>Explore</td>\n",
       "      <td>online-playlist</td>\n",
       "      <td>1.0</td>\n",
       "    </tr>\n",
       "    <tr>\n",
       "      <th>1</th>\n",
       "      <td>Xumu+NIjS6QYVxDS4/t3SawvJ7viT9hPKXmf0RtLNx8=</td>\n",
       "      <td>bhp/MpSNoqoxOIB+/l8WPqu6jldth4DIpCm3ayXnJqM=</td>\n",
       "      <td>my library</td>\n",
       "      <td>Local playlist more</td>\n",
       "      <td>local-playlist</td>\n",
       "      <td>1.0</td>\n",
       "    </tr>\n",
       "    <tr>\n",
       "      <th>2</th>\n",
       "      <td>Xumu+NIjS6QYVxDS4/t3SawvJ7viT9hPKXmf0RtLNx8=</td>\n",
       "      <td>JNWfrrC7zNN7BdMpsISKa4Mw+xVJYNnxXh3/Epw7QgY=</td>\n",
       "      <td>my library</td>\n",
       "      <td>Local playlist more</td>\n",
       "      <td>local-playlist</td>\n",
       "      <td>1.0</td>\n",
       "    </tr>\n",
       "    <tr>\n",
       "      <th>3</th>\n",
       "      <td>Xumu+NIjS6QYVxDS4/t3SawvJ7viT9hPKXmf0RtLNx8=</td>\n",
       "      <td>2A87tzfnJTSWqD7gIZHisolhe4DMdzkbd6LzO1KHjNs=</td>\n",
       "      <td>my library</td>\n",
       "      <td>Local playlist more</td>\n",
       "      <td>local-playlist</td>\n",
       "      <td>1.0</td>\n",
       "    </tr>\n",
       "    <tr>\n",
       "      <th>4</th>\n",
       "      <td>FGtllVqz18RPiwJj/edr2gV78zirAiY/9SmYvia+kCg=</td>\n",
       "      <td>3qm6XTZ6MOCU11x8FIVbAGH5l5uMkT3/ZalWG1oo2Gc=</td>\n",
       "      <td>explore</td>\n",
       "      <td>Explore</td>\n",
       "      <td>online-playlist</td>\n",
       "      <td>1.0</td>\n",
       "    </tr>\n",
       "  </tbody>\n",
       "</table>\n",
       "</div>\n",
       "      <button class=\"colab-df-convert\" onclick=\"convertToInteractive('df-d30d5eb2-1aa3-4254-8248-b81dc2057556')\"\n",
       "              title=\"Convert this dataframe to an interactive table.\"\n",
       "              style=\"display:none;\">\n",
       "        \n",
       "  <svg xmlns=\"http://www.w3.org/2000/svg\" height=\"24px\"viewBox=\"0 0 24 24\"\n",
       "       width=\"24px\">\n",
       "    <path d=\"M0 0h24v24H0V0z\" fill=\"none\"/>\n",
       "    <path d=\"M18.56 5.44l.94 2.06.94-2.06 2.06-.94-2.06-.94-.94-2.06-.94 2.06-2.06.94zm-11 1L8.5 8.5l.94-2.06 2.06-.94-2.06-.94L8.5 2.5l-.94 2.06-2.06.94zm10 10l.94 2.06.94-2.06 2.06-.94-2.06-.94-.94-2.06-.94 2.06-2.06.94z\"/><path d=\"M17.41 7.96l-1.37-1.37c-.4-.4-.92-.59-1.43-.59-.52 0-1.04.2-1.43.59L10.3 9.45l-7.72 7.72c-.78.78-.78 2.05 0 2.83L4 21.41c.39.39.9.59 1.41.59.51 0 1.02-.2 1.41-.59l7.78-7.78 2.81-2.81c.8-.78.8-2.07 0-2.86zM5.41 20L4 18.59l7.72-7.72 1.47 1.35L5.41 20z\"/>\n",
       "  </svg>\n",
       "      </button>\n",
       "      \n",
       "  <style>\n",
       "    .colab-df-container {\n",
       "      display:flex;\n",
       "      flex-wrap:wrap;\n",
       "      gap: 12px;\n",
       "    }\n",
       "\n",
       "    .colab-df-convert {\n",
       "      background-color: #E8F0FE;\n",
       "      border: none;\n",
       "      border-radius: 50%;\n",
       "      cursor: pointer;\n",
       "      display: none;\n",
       "      fill: #1967D2;\n",
       "      height: 32px;\n",
       "      padding: 0 0 0 0;\n",
       "      width: 32px;\n",
       "    }\n",
       "\n",
       "    .colab-df-convert:hover {\n",
       "      background-color: #E2EBFA;\n",
       "      box-shadow: 0px 1px 2px rgba(60, 64, 67, 0.3), 0px 1px 3px 1px rgba(60, 64, 67, 0.15);\n",
       "      fill: #174EA6;\n",
       "    }\n",
       "\n",
       "    [theme=dark] .colab-df-convert {\n",
       "      background-color: #3B4455;\n",
       "      fill: #D2E3FC;\n",
       "    }\n",
       "\n",
       "    [theme=dark] .colab-df-convert:hover {\n",
       "      background-color: #434B5C;\n",
       "      box-shadow: 0px 1px 3px 1px rgba(0, 0, 0, 0.15);\n",
       "      filter: drop-shadow(0px 1px 2px rgba(0, 0, 0, 0.3));\n",
       "      fill: #FFFFFF;\n",
       "    }\n",
       "  </style>\n",
       "\n",
       "      <script>\n",
       "        const buttonEl =\n",
       "          document.querySelector('#df-d30d5eb2-1aa3-4254-8248-b81dc2057556 button.colab-df-convert');\n",
       "        buttonEl.style.display =\n",
       "          google.colab.kernel.accessAllowed ? 'block' : 'none';\n",
       "\n",
       "        async function convertToInteractive(key) {\n",
       "          const element = document.querySelector('#df-d30d5eb2-1aa3-4254-8248-b81dc2057556');\n",
       "          const dataTable =\n",
       "            await google.colab.kernel.invokeFunction('convertToInteractive',\n",
       "                                                     [key], {});\n",
       "          if (!dataTable) return;\n",
       "\n",
       "          const docLinkHtml = 'Like what you see? Visit the ' +\n",
       "            '<a target=\"_blank\" href=https://colab.research.google.com/notebooks/data_table.ipynb>data table notebook</a>'\n",
       "            + ' to learn more about interactive tables.';\n",
       "          element.innerHTML = '';\n",
       "          dataTable['output_type'] = 'display_data';\n",
       "          await google.colab.output.renderOutput(dataTable, element);\n",
       "          const docLink = document.createElement('div');\n",
       "          docLink.innerHTML = docLinkHtml;\n",
       "          element.appendChild(docLink);\n",
       "        }\n",
       "      </script>\n",
       "    </div>\n",
       "  </div>\n",
       "  "
      ],
      "text/plain": [
       "                                           msno  \\\n",
       "0  FGtllVqz18RPiwJj/edr2gV78zirAiY/9SmYvia+kCg=   \n",
       "1  Xumu+NIjS6QYVxDS4/t3SawvJ7viT9hPKXmf0RtLNx8=   \n",
       "2  Xumu+NIjS6QYVxDS4/t3SawvJ7viT9hPKXmf0RtLNx8=   \n",
       "3  Xumu+NIjS6QYVxDS4/t3SawvJ7viT9hPKXmf0RtLNx8=   \n",
       "4  FGtllVqz18RPiwJj/edr2gV78zirAiY/9SmYvia+kCg=   \n",
       "\n",
       "                                        song_id source_system_tab  \\\n",
       "0  BBzumQNXUHKdEBOB7mAJuzok+IJA1c2Ryg/yzTF6tik=           explore   \n",
       "1  bhp/MpSNoqoxOIB+/l8WPqu6jldth4DIpCm3ayXnJqM=        my library   \n",
       "2  JNWfrrC7zNN7BdMpsISKa4Mw+xVJYNnxXh3/Epw7QgY=        my library   \n",
       "3  2A87tzfnJTSWqD7gIZHisolhe4DMdzkbd6LzO1KHjNs=        my library   \n",
       "4  3qm6XTZ6MOCU11x8FIVbAGH5l5uMkT3/ZalWG1oo2Gc=           explore   \n",
       "\n",
       "    source_screen_name      source_type  target  \n",
       "0              Explore  online-playlist     1.0  \n",
       "1  Local playlist more   local-playlist     1.0  \n",
       "2  Local playlist more   local-playlist     1.0  \n",
       "3  Local playlist more   local-playlist     1.0  \n",
       "4              Explore  online-playlist     1.0  "
      ]
     },
     "execution_count": 80,
     "metadata": {},
     "output_type": "execute_result"
    }
   ],
   "source": [
    "train = pd.read_csv('train.csv')\n",
    "train.head()"
   ]
  },
  {
   "cell_type": "code",
   "execution_count": null,
   "metadata": {
    "colab": {
     "base_uri": "https://localhost:8080/"
    },
    "executionInfo": {
     "elapsed": 29,
     "status": "ok",
     "timestamp": 1650998825440,
     "user": {
      "displayName": "Harsh Bansal",
      "userId": "14022242986795664987"
     },
     "user_tz": -330
    },
    "id": "hrJN56fGKd2-",
    "outputId": "09c29bdb-bbba-4a0f-916d-880077a3e70f"
   },
   "outputs": [
    {
     "name": "stdout",
     "output_type": "stream",
     "text": [
      "<class 'pandas.core.frame.DataFrame'>\n",
      "RangeIndex: 5292254 entries, 0 to 5292253\n",
      "Data columns (total 6 columns):\n",
      " #   Column              Dtype  \n",
      "---  ------              -----  \n",
      " 0   msno                object \n",
      " 1   song_id             object \n",
      " 2   source_system_tab   object \n",
      " 3   source_screen_name  object \n",
      " 4   source_type         object \n",
      " 5   target              float64\n",
      "dtypes: float64(1), object(5)\n",
      "memory usage: 242.3+ MB\n"
     ]
    }
   ],
   "source": [
    "train.info()"
   ]
  },
  {
   "cell_type": "code",
   "execution_count": null,
   "metadata": {
    "colab": {
     "base_uri": "https://localhost:8080/",
     "height": 300
    },
    "executionInfo": {
     "elapsed": 677,
     "status": "ok",
     "timestamp": 1650998826104,
     "user": {
      "displayName": "Harsh Bansal",
      "userId": "14022242986795664987"
     },
     "user_tz": -330
    },
    "id": "O8ifMBFNKfPU",
    "outputId": "c0ea492e-3bc8-4ffd-e457-6b95e9081327"
   },
   "outputs": [
    {
     "data": {
      "text/html": [
       "\n",
       "  <div id=\"df-f927c918-9f50-4e5e-9f88-c8fc29e82865\">\n",
       "    <div class=\"colab-df-container\">\n",
       "      <div>\n",
       "<style scoped>\n",
       "    .dataframe tbody tr th:only-of-type {\n",
       "        vertical-align: middle;\n",
       "    }\n",
       "\n",
       "    .dataframe tbody tr th {\n",
       "        vertical-align: top;\n",
       "    }\n",
       "\n",
       "    .dataframe thead th {\n",
       "        text-align: right;\n",
       "    }\n",
       "</style>\n",
       "<table border=\"1\" class=\"dataframe\">\n",
       "  <thead>\n",
       "    <tr style=\"text-align: right;\">\n",
       "      <th></th>\n",
       "      <th>target</th>\n",
       "    </tr>\n",
       "  </thead>\n",
       "  <tbody>\n",
       "    <tr>\n",
       "      <th>count</th>\n",
       "      <td>5.292253e+06</td>\n",
       "    </tr>\n",
       "    <tr>\n",
       "      <th>mean</th>\n",
       "      <td>5.404241e-01</td>\n",
       "    </tr>\n",
       "    <tr>\n",
       "      <th>std</th>\n",
       "      <td>4.983633e-01</td>\n",
       "    </tr>\n",
       "    <tr>\n",
       "      <th>min</th>\n",
       "      <td>0.000000e+00</td>\n",
       "    </tr>\n",
       "    <tr>\n",
       "      <th>25%</th>\n",
       "      <td>0.000000e+00</td>\n",
       "    </tr>\n",
       "    <tr>\n",
       "      <th>50%</th>\n",
       "      <td>1.000000e+00</td>\n",
       "    </tr>\n",
       "    <tr>\n",
       "      <th>75%</th>\n",
       "      <td>1.000000e+00</td>\n",
       "    </tr>\n",
       "    <tr>\n",
       "      <th>max</th>\n",
       "      <td>1.000000e+00</td>\n",
       "    </tr>\n",
       "  </tbody>\n",
       "</table>\n",
       "</div>\n",
       "      <button class=\"colab-df-convert\" onclick=\"convertToInteractive('df-f927c918-9f50-4e5e-9f88-c8fc29e82865')\"\n",
       "              title=\"Convert this dataframe to an interactive table.\"\n",
       "              style=\"display:none;\">\n",
       "        \n",
       "  <svg xmlns=\"http://www.w3.org/2000/svg\" height=\"24px\"viewBox=\"0 0 24 24\"\n",
       "       width=\"24px\">\n",
       "    <path d=\"M0 0h24v24H0V0z\" fill=\"none\"/>\n",
       "    <path d=\"M18.56 5.44l.94 2.06.94-2.06 2.06-.94-2.06-.94-.94-2.06-.94 2.06-2.06.94zm-11 1L8.5 8.5l.94-2.06 2.06-.94-2.06-.94L8.5 2.5l-.94 2.06-2.06.94zm10 10l.94 2.06.94-2.06 2.06-.94-2.06-.94-.94-2.06-.94 2.06-2.06.94z\"/><path d=\"M17.41 7.96l-1.37-1.37c-.4-.4-.92-.59-1.43-.59-.52 0-1.04.2-1.43.59L10.3 9.45l-7.72 7.72c-.78.78-.78 2.05 0 2.83L4 21.41c.39.39.9.59 1.41.59.51 0 1.02-.2 1.41-.59l7.78-7.78 2.81-2.81c.8-.78.8-2.07 0-2.86zM5.41 20L4 18.59l7.72-7.72 1.47 1.35L5.41 20z\"/>\n",
       "  </svg>\n",
       "      </button>\n",
       "      \n",
       "  <style>\n",
       "    .colab-df-container {\n",
       "      display:flex;\n",
       "      flex-wrap:wrap;\n",
       "      gap: 12px;\n",
       "    }\n",
       "\n",
       "    .colab-df-convert {\n",
       "      background-color: #E8F0FE;\n",
       "      border: none;\n",
       "      border-radius: 50%;\n",
       "      cursor: pointer;\n",
       "      display: none;\n",
       "      fill: #1967D2;\n",
       "      height: 32px;\n",
       "      padding: 0 0 0 0;\n",
       "      width: 32px;\n",
       "    }\n",
       "\n",
       "    .colab-df-convert:hover {\n",
       "      background-color: #E2EBFA;\n",
       "      box-shadow: 0px 1px 2px rgba(60, 64, 67, 0.3), 0px 1px 3px 1px rgba(60, 64, 67, 0.15);\n",
       "      fill: #174EA6;\n",
       "    }\n",
       "\n",
       "    [theme=dark] .colab-df-convert {\n",
       "      background-color: #3B4455;\n",
       "      fill: #D2E3FC;\n",
       "    }\n",
       "\n",
       "    [theme=dark] .colab-df-convert:hover {\n",
       "      background-color: #434B5C;\n",
       "      box-shadow: 0px 1px 3px 1px rgba(0, 0, 0, 0.15);\n",
       "      filter: drop-shadow(0px 1px 2px rgba(0, 0, 0, 0.3));\n",
       "      fill: #FFFFFF;\n",
       "    }\n",
       "  </style>\n",
       "\n",
       "      <script>\n",
       "        const buttonEl =\n",
       "          document.querySelector('#df-f927c918-9f50-4e5e-9f88-c8fc29e82865 button.colab-df-convert');\n",
       "        buttonEl.style.display =\n",
       "          google.colab.kernel.accessAllowed ? 'block' : 'none';\n",
       "\n",
       "        async function convertToInteractive(key) {\n",
       "          const element = document.querySelector('#df-f927c918-9f50-4e5e-9f88-c8fc29e82865');\n",
       "          const dataTable =\n",
       "            await google.colab.kernel.invokeFunction('convertToInteractive',\n",
       "                                                     [key], {});\n",
       "          if (!dataTable) return;\n",
       "\n",
       "          const docLinkHtml = 'Like what you see? Visit the ' +\n",
       "            '<a target=\"_blank\" href=https://colab.research.google.com/notebooks/data_table.ipynb>data table notebook</a>'\n",
       "            + ' to learn more about interactive tables.';\n",
       "          element.innerHTML = '';\n",
       "          dataTable['output_type'] = 'display_data';\n",
       "          await google.colab.output.renderOutput(dataTable, element);\n",
       "          const docLink = document.createElement('div');\n",
       "          docLink.innerHTML = docLinkHtml;\n",
       "          element.appendChild(docLink);\n",
       "        }\n",
       "      </script>\n",
       "    </div>\n",
       "  </div>\n",
       "  "
      ],
      "text/plain": [
       "             target\n",
       "count  5.292253e+06\n",
       "mean   5.404241e-01\n",
       "std    4.983633e-01\n",
       "min    0.000000e+00\n",
       "25%    0.000000e+00\n",
       "50%    1.000000e+00\n",
       "75%    1.000000e+00\n",
       "max    1.000000e+00"
      ]
     },
     "execution_count": 82,
     "metadata": {},
     "output_type": "execute_result"
    }
   ],
   "source": [
    "train.describe()"
   ]
  },
  {
   "cell_type": "code",
   "execution_count": null,
   "metadata": {
    "colab": {
     "base_uri": "https://localhost:8080/"
    },
    "executionInfo": {
     "elapsed": 851,
     "status": "ok",
     "timestamp": 1650998826945,
     "user": {
      "displayName": "Harsh Bansal",
      "userId": "14022242986795664987"
     },
     "user_tz": -330
    },
    "id": "-AxA-5kkKgsa",
    "outputId": "edda2a67-9b43-4da4-a316-b068515abc6b"
   },
   "outputs": [
    {
     "data": {
      "text/plain": [
       "msno                       0\n",
       "song_id                    0\n",
       "source_system_tab      18148\n",
       "source_screen_name    283237\n",
       "source_type            15238\n",
       "target                     1\n",
       "dtype: int64"
      ]
     },
     "execution_count": 83,
     "metadata": {},
     "output_type": "execute_result"
    }
   ],
   "source": [
    "train.isnull().sum()"
   ]
  },
  {
   "cell_type": "code",
   "execution_count": null,
   "metadata": {
    "colab": {
     "base_uri": "https://localhost:8080/",
     "height": 206
    },
    "executionInfo": {
     "elapsed": 4381,
     "status": "ok",
     "timestamp": 1650998831316,
     "user": {
      "displayName": "Harsh Bansal",
      "userId": "14022242986795664987"
     },
     "user_tz": -330
    },
    "id": "td1tiH4AKjPl",
    "outputId": "b94a45c1-a65f-4bb0-9424-2a1dd127753b"
   },
   "outputs": [
    {
     "data": {
      "text/html": [
       "\n",
       "  <div id=\"df-23b01e45-c312-44ff-ae91-00528034f440\">\n",
       "    <div class=\"colab-df-container\">\n",
       "      <div>\n",
       "<style scoped>\n",
       "    .dataframe tbody tr th:only-of-type {\n",
       "        vertical-align: middle;\n",
       "    }\n",
       "\n",
       "    .dataframe tbody tr th {\n",
       "        vertical-align: top;\n",
       "    }\n",
       "\n",
       "    .dataframe thead th {\n",
       "        text-align: right;\n",
       "    }\n",
       "</style>\n",
       "<table border=\"1\" class=\"dataframe\">\n",
       "  <thead>\n",
       "    <tr style=\"text-align: right;\">\n",
       "      <th></th>\n",
       "      <th>id</th>\n",
       "      <th>msno</th>\n",
       "      <th>song_id</th>\n",
       "      <th>source_system_tab</th>\n",
       "      <th>source_screen_name</th>\n",
       "      <th>source_type</th>\n",
       "    </tr>\n",
       "  </thead>\n",
       "  <tbody>\n",
       "    <tr>\n",
       "      <th>0</th>\n",
       "      <td>0</td>\n",
       "      <td>V8ruy7SGk7tDm3zA51DPpn6qutt+vmKMBKa21dp54uM=</td>\n",
       "      <td>WmHKgKMlp1lQMecNdNvDMkvIycZYHnFwDT72I5sIssc=</td>\n",
       "      <td>my library</td>\n",
       "      <td>Local playlist more</td>\n",
       "      <td>local-library</td>\n",
       "    </tr>\n",
       "    <tr>\n",
       "      <th>1</th>\n",
       "      <td>1</td>\n",
       "      <td>V8ruy7SGk7tDm3zA51DPpn6qutt+vmKMBKa21dp54uM=</td>\n",
       "      <td>y/rsZ9DC7FwK5F2PK2D5mj+aOBUJAjuu3dZ14NgE0vM=</td>\n",
       "      <td>my library</td>\n",
       "      <td>Local playlist more</td>\n",
       "      <td>local-library</td>\n",
       "    </tr>\n",
       "    <tr>\n",
       "      <th>2</th>\n",
       "      <td>2</td>\n",
       "      <td>/uQAlrAkaczV+nWCd2sPF2ekvXPRipV7q0l+gbLuxjw=</td>\n",
       "      <td>8eZLFOdGVdXBSqoAv5nsLigeH2BvKXzTQYtUM53I0k4=</td>\n",
       "      <td>discover</td>\n",
       "      <td>NaN</td>\n",
       "      <td>song-based-playlist</td>\n",
       "    </tr>\n",
       "    <tr>\n",
       "      <th>3</th>\n",
       "      <td>3</td>\n",
       "      <td>1a6oo/iXKatxQx4eS9zTVD+KlSVaAFbTIqVvwLC1Y0k=</td>\n",
       "      <td>ztCf8thYsS4YN3GcIL/bvoxLm/T5mYBVKOO4C9NiVfQ=</td>\n",
       "      <td>radio</td>\n",
       "      <td>Radio</td>\n",
       "      <td>radio</td>\n",
       "    </tr>\n",
       "    <tr>\n",
       "      <th>4</th>\n",
       "      <td>4</td>\n",
       "      <td>1a6oo/iXKatxQx4eS9zTVD+KlSVaAFbTIqVvwLC1Y0k=</td>\n",
       "      <td>MKVMpslKcQhMaFEgcEQhEfi5+RZhMYlU3eRDpySrH8Y=</td>\n",
       "      <td>radio</td>\n",
       "      <td>Radio</td>\n",
       "      <td>radio</td>\n",
       "    </tr>\n",
       "  </tbody>\n",
       "</table>\n",
       "</div>\n",
       "      <button class=\"colab-df-convert\" onclick=\"convertToInteractive('df-23b01e45-c312-44ff-ae91-00528034f440')\"\n",
       "              title=\"Convert this dataframe to an interactive table.\"\n",
       "              style=\"display:none;\">\n",
       "        \n",
       "  <svg xmlns=\"http://www.w3.org/2000/svg\" height=\"24px\"viewBox=\"0 0 24 24\"\n",
       "       width=\"24px\">\n",
       "    <path d=\"M0 0h24v24H0V0z\" fill=\"none\"/>\n",
       "    <path d=\"M18.56 5.44l.94 2.06.94-2.06 2.06-.94-2.06-.94-.94-2.06-.94 2.06-2.06.94zm-11 1L8.5 8.5l.94-2.06 2.06-.94-2.06-.94L8.5 2.5l-.94 2.06-2.06.94zm10 10l.94 2.06.94-2.06 2.06-.94-2.06-.94-.94-2.06-.94 2.06-2.06.94z\"/><path d=\"M17.41 7.96l-1.37-1.37c-.4-.4-.92-.59-1.43-.59-.52 0-1.04.2-1.43.59L10.3 9.45l-7.72 7.72c-.78.78-.78 2.05 0 2.83L4 21.41c.39.39.9.59 1.41.59.51 0 1.02-.2 1.41-.59l7.78-7.78 2.81-2.81c.8-.78.8-2.07 0-2.86zM5.41 20L4 18.59l7.72-7.72 1.47 1.35L5.41 20z\"/>\n",
       "  </svg>\n",
       "      </button>\n",
       "      \n",
       "  <style>\n",
       "    .colab-df-container {\n",
       "      display:flex;\n",
       "      flex-wrap:wrap;\n",
       "      gap: 12px;\n",
       "    }\n",
       "\n",
       "    .colab-df-convert {\n",
       "      background-color: #E8F0FE;\n",
       "      border: none;\n",
       "      border-radius: 50%;\n",
       "      cursor: pointer;\n",
       "      display: none;\n",
       "      fill: #1967D2;\n",
       "      height: 32px;\n",
       "      padding: 0 0 0 0;\n",
       "      width: 32px;\n",
       "    }\n",
       "\n",
       "    .colab-df-convert:hover {\n",
       "      background-color: #E2EBFA;\n",
       "      box-shadow: 0px 1px 2px rgba(60, 64, 67, 0.3), 0px 1px 3px 1px rgba(60, 64, 67, 0.15);\n",
       "      fill: #174EA6;\n",
       "    }\n",
       "\n",
       "    [theme=dark] .colab-df-convert {\n",
       "      background-color: #3B4455;\n",
       "      fill: #D2E3FC;\n",
       "    }\n",
       "\n",
       "    [theme=dark] .colab-df-convert:hover {\n",
       "      background-color: #434B5C;\n",
       "      box-shadow: 0px 1px 3px 1px rgba(0, 0, 0, 0.15);\n",
       "      filter: drop-shadow(0px 1px 2px rgba(0, 0, 0, 0.3));\n",
       "      fill: #FFFFFF;\n",
       "    }\n",
       "  </style>\n",
       "\n",
       "      <script>\n",
       "        const buttonEl =\n",
       "          document.querySelector('#df-23b01e45-c312-44ff-ae91-00528034f440 button.colab-df-convert');\n",
       "        buttonEl.style.display =\n",
       "          google.colab.kernel.accessAllowed ? 'block' : 'none';\n",
       "\n",
       "        async function convertToInteractive(key) {\n",
       "          const element = document.querySelector('#df-23b01e45-c312-44ff-ae91-00528034f440');\n",
       "          const dataTable =\n",
       "            await google.colab.kernel.invokeFunction('convertToInteractive',\n",
       "                                                     [key], {});\n",
       "          if (!dataTable) return;\n",
       "\n",
       "          const docLinkHtml = 'Like what you see? Visit the ' +\n",
       "            '<a target=\"_blank\" href=https://colab.research.google.com/notebooks/data_table.ipynb>data table notebook</a>'\n",
       "            + ' to learn more about interactive tables.';\n",
       "          element.innerHTML = '';\n",
       "          dataTable['output_type'] = 'display_data';\n",
       "          await google.colab.output.renderOutput(dataTable, element);\n",
       "          const docLink = document.createElement('div');\n",
       "          docLink.innerHTML = docLinkHtml;\n",
       "          element.appendChild(docLink);\n",
       "        }\n",
       "      </script>\n",
       "    </div>\n",
       "  </div>\n",
       "  "
      ],
      "text/plain": [
       "   id                                          msno  \\\n",
       "0   0  V8ruy7SGk7tDm3zA51DPpn6qutt+vmKMBKa21dp54uM=   \n",
       "1   1  V8ruy7SGk7tDm3zA51DPpn6qutt+vmKMBKa21dp54uM=   \n",
       "2   2  /uQAlrAkaczV+nWCd2sPF2ekvXPRipV7q0l+gbLuxjw=   \n",
       "3   3  1a6oo/iXKatxQx4eS9zTVD+KlSVaAFbTIqVvwLC1Y0k=   \n",
       "4   4  1a6oo/iXKatxQx4eS9zTVD+KlSVaAFbTIqVvwLC1Y0k=   \n",
       "\n",
       "                                        song_id source_system_tab  \\\n",
       "0  WmHKgKMlp1lQMecNdNvDMkvIycZYHnFwDT72I5sIssc=        my library   \n",
       "1  y/rsZ9DC7FwK5F2PK2D5mj+aOBUJAjuu3dZ14NgE0vM=        my library   \n",
       "2  8eZLFOdGVdXBSqoAv5nsLigeH2BvKXzTQYtUM53I0k4=          discover   \n",
       "3  ztCf8thYsS4YN3GcIL/bvoxLm/T5mYBVKOO4C9NiVfQ=             radio   \n",
       "4  MKVMpslKcQhMaFEgcEQhEfi5+RZhMYlU3eRDpySrH8Y=             radio   \n",
       "\n",
       "    source_screen_name          source_type  \n",
       "0  Local playlist more        local-library  \n",
       "1  Local playlist more        local-library  \n",
       "2                  NaN  song-based-playlist  \n",
       "3                Radio                radio  \n",
       "4                Radio                radio  "
      ]
     },
     "execution_count": 84,
     "metadata": {},
     "output_type": "execute_result"
    }
   ],
   "source": [
    "test = pd.read_csv('test.csv')\n",
    "test.head()"
   ]
  },
  {
   "cell_type": "code",
   "execution_count": null,
   "metadata": {
    "colab": {
     "base_uri": "https://localhost:8080/"
    },
    "executionInfo": {
     "elapsed": 57,
     "status": "ok",
     "timestamp": 1650998831320,
     "user": {
      "displayName": "Harsh Bansal",
      "userId": "14022242986795664987"
     },
     "user_tz": -330
    },
    "id": "JBOAgYHGK2u4",
    "outputId": "b7da5775-6263-4277-ccd5-1fab981a4fc0"
   },
   "outputs": [
    {
     "name": "stdout",
     "output_type": "stream",
     "text": [
      "<class 'pandas.core.frame.DataFrame'>\n",
      "RangeIndex: 2556790 entries, 0 to 2556789\n",
      "Data columns (total 6 columns):\n",
      " #   Column              Dtype \n",
      "---  ------              ----- \n",
      " 0   id                  int64 \n",
      " 1   msno                object\n",
      " 2   song_id             object\n",
      " 3   source_system_tab   object\n",
      " 4   source_screen_name  object\n",
      " 5   source_type         object\n",
      "dtypes: int64(1), object(5)\n",
      "memory usage: 117.0+ MB\n"
     ]
    }
   ],
   "source": [
    "test.info()"
   ]
  },
  {
   "cell_type": "code",
   "execution_count": null,
   "metadata": {
    "colab": {
     "base_uri": "https://localhost:8080/",
     "height": 300
    },
    "executionInfo": {
     "elapsed": 648,
     "status": "ok",
     "timestamp": 1650998831925,
     "user": {
      "displayName": "Harsh Bansal",
      "userId": "14022242986795664987"
     },
     "user_tz": -330
    },
    "id": "JkpLWy2SK5mR",
    "outputId": "b0b7c711-81e4-43f7-ef80-66ae7af97e3e"
   },
   "outputs": [
    {
     "data": {
      "text/html": [
       "\n",
       "  <div id=\"df-9a1183e2-81a2-4d1f-98a9-a4329fd8c629\">\n",
       "    <div class=\"colab-df-container\">\n",
       "      <div>\n",
       "<style scoped>\n",
       "    .dataframe tbody tr th:only-of-type {\n",
       "        vertical-align: middle;\n",
       "    }\n",
       "\n",
       "    .dataframe tbody tr th {\n",
       "        vertical-align: top;\n",
       "    }\n",
       "\n",
       "    .dataframe thead th {\n",
       "        text-align: right;\n",
       "    }\n",
       "</style>\n",
       "<table border=\"1\" class=\"dataframe\">\n",
       "  <thead>\n",
       "    <tr style=\"text-align: right;\">\n",
       "      <th></th>\n",
       "      <th>id</th>\n",
       "    </tr>\n",
       "  </thead>\n",
       "  <tbody>\n",
       "    <tr>\n",
       "      <th>count</th>\n",
       "      <td>2.556790e+06</td>\n",
       "    </tr>\n",
       "    <tr>\n",
       "      <th>mean</th>\n",
       "      <td>1.278394e+06</td>\n",
       "    </tr>\n",
       "    <tr>\n",
       "      <th>std</th>\n",
       "      <td>7.380818e+05</td>\n",
       "    </tr>\n",
       "    <tr>\n",
       "      <th>min</th>\n",
       "      <td>0.000000e+00</td>\n",
       "    </tr>\n",
       "    <tr>\n",
       "      <th>25%</th>\n",
       "      <td>6.391972e+05</td>\n",
       "    </tr>\n",
       "    <tr>\n",
       "      <th>50%</th>\n",
       "      <td>1.278394e+06</td>\n",
       "    </tr>\n",
       "    <tr>\n",
       "      <th>75%</th>\n",
       "      <td>1.917592e+06</td>\n",
       "    </tr>\n",
       "    <tr>\n",
       "      <th>max</th>\n",
       "      <td>2.556789e+06</td>\n",
       "    </tr>\n",
       "  </tbody>\n",
       "</table>\n",
       "</div>\n",
       "      <button class=\"colab-df-convert\" onclick=\"convertToInteractive('df-9a1183e2-81a2-4d1f-98a9-a4329fd8c629')\"\n",
       "              title=\"Convert this dataframe to an interactive table.\"\n",
       "              style=\"display:none;\">\n",
       "        \n",
       "  <svg xmlns=\"http://www.w3.org/2000/svg\" height=\"24px\"viewBox=\"0 0 24 24\"\n",
       "       width=\"24px\">\n",
       "    <path d=\"M0 0h24v24H0V0z\" fill=\"none\"/>\n",
       "    <path d=\"M18.56 5.44l.94 2.06.94-2.06 2.06-.94-2.06-.94-.94-2.06-.94 2.06-2.06.94zm-11 1L8.5 8.5l.94-2.06 2.06-.94-2.06-.94L8.5 2.5l-.94 2.06-2.06.94zm10 10l.94 2.06.94-2.06 2.06-.94-2.06-.94-.94-2.06-.94 2.06-2.06.94z\"/><path d=\"M17.41 7.96l-1.37-1.37c-.4-.4-.92-.59-1.43-.59-.52 0-1.04.2-1.43.59L10.3 9.45l-7.72 7.72c-.78.78-.78 2.05 0 2.83L4 21.41c.39.39.9.59 1.41.59.51 0 1.02-.2 1.41-.59l7.78-7.78 2.81-2.81c.8-.78.8-2.07 0-2.86zM5.41 20L4 18.59l7.72-7.72 1.47 1.35L5.41 20z\"/>\n",
       "  </svg>\n",
       "      </button>\n",
       "      \n",
       "  <style>\n",
       "    .colab-df-container {\n",
       "      display:flex;\n",
       "      flex-wrap:wrap;\n",
       "      gap: 12px;\n",
       "    }\n",
       "\n",
       "    .colab-df-convert {\n",
       "      background-color: #E8F0FE;\n",
       "      border: none;\n",
       "      border-radius: 50%;\n",
       "      cursor: pointer;\n",
       "      display: none;\n",
       "      fill: #1967D2;\n",
       "      height: 32px;\n",
       "      padding: 0 0 0 0;\n",
       "      width: 32px;\n",
       "    }\n",
       "\n",
       "    .colab-df-convert:hover {\n",
       "      background-color: #E2EBFA;\n",
       "      box-shadow: 0px 1px 2px rgba(60, 64, 67, 0.3), 0px 1px 3px 1px rgba(60, 64, 67, 0.15);\n",
       "      fill: #174EA6;\n",
       "    }\n",
       "\n",
       "    [theme=dark] .colab-df-convert {\n",
       "      background-color: #3B4455;\n",
       "      fill: #D2E3FC;\n",
       "    }\n",
       "\n",
       "    [theme=dark] .colab-df-convert:hover {\n",
       "      background-color: #434B5C;\n",
       "      box-shadow: 0px 1px 3px 1px rgba(0, 0, 0, 0.15);\n",
       "      filter: drop-shadow(0px 1px 2px rgba(0, 0, 0, 0.3));\n",
       "      fill: #FFFFFF;\n",
       "    }\n",
       "  </style>\n",
       "\n",
       "      <script>\n",
       "        const buttonEl =\n",
       "          document.querySelector('#df-9a1183e2-81a2-4d1f-98a9-a4329fd8c629 button.colab-df-convert');\n",
       "        buttonEl.style.display =\n",
       "          google.colab.kernel.accessAllowed ? 'block' : 'none';\n",
       "\n",
       "        async function convertToInteractive(key) {\n",
       "          const element = document.querySelector('#df-9a1183e2-81a2-4d1f-98a9-a4329fd8c629');\n",
       "          const dataTable =\n",
       "            await google.colab.kernel.invokeFunction('convertToInteractive',\n",
       "                                                     [key], {});\n",
       "          if (!dataTable) return;\n",
       "\n",
       "          const docLinkHtml = 'Like what you see? Visit the ' +\n",
       "            '<a target=\"_blank\" href=https://colab.research.google.com/notebooks/data_table.ipynb>data table notebook</a>'\n",
       "            + ' to learn more about interactive tables.';\n",
       "          element.innerHTML = '';\n",
       "          dataTable['output_type'] = 'display_data';\n",
       "          await google.colab.output.renderOutput(dataTable, element);\n",
       "          const docLink = document.createElement('div');\n",
       "          docLink.innerHTML = docLinkHtml;\n",
       "          element.appendChild(docLink);\n",
       "        }\n",
       "      </script>\n",
       "    </div>\n",
       "  </div>\n",
       "  "
      ],
      "text/plain": [
       "                 id\n",
       "count  2.556790e+06\n",
       "mean   1.278394e+06\n",
       "std    7.380818e+05\n",
       "min    0.000000e+00\n",
       "25%    6.391972e+05\n",
       "50%    1.278394e+06\n",
       "75%    1.917592e+06\n",
       "max    2.556789e+06"
      ]
     },
     "execution_count": 86,
     "metadata": {},
     "output_type": "execute_result"
    }
   ],
   "source": [
    "test.describe()"
   ]
  },
  {
   "cell_type": "code",
   "execution_count": null,
   "metadata": {
    "colab": {
     "base_uri": "https://localhost:8080/",
     "height": 869
    },
    "executionInfo": {
     "elapsed": 9957,
     "status": "ok",
     "timestamp": 1650998841873,
     "user": {
      "displayName": "Harsh Bansal",
      "userId": "14022242986795664987"
     },
     "user_tz": -330
    },
    "id": "IHa2OFOjLUf8",
    "outputId": "85fccbaf-c4bd-4167-f09d-ef44505800fa"
   },
   "outputs": [
    {
     "data": {
      "image/png": "[encoded data removed]",
      "text/plain": [
       "<Figure size 1296x864 with 1 Axes>"
      ]
     },
     "metadata": {},
     "output_type": "display_data"
    }
   ],
   "source": [
    "plt.figure(figsize=(18,12))\n",
    "sns.set(font_scale=2)\n",
    "sns.countplot(x='source_type',hue='source_type',data=train)\n",
    "sns.set(style='darkgrid')\n",
    "plt.xlabel('source type',fontsize=18)\n",
    "plt.ylabel('count',fontsize=18)\n",
    "plt.xticks(rotation='45')\n",
    "plt.title('count plot type for listening music',fontsize=18)\n",
    "plt.tight_layout()"
   ]
  },
  {
   "cell_type": "code",
   "execution_count": null,
   "metadata": {
    "colab": {
     "base_uri": "https://localhost:8080/",
     "height": 1000
    },
    "executionInfo": {
     "elapsed": 3433,
     "status": "ok",
     "timestamp": 1650998845295,
     "user": {
      "displayName": "Harsh Bansal",
      "userId": "14022242986795664987"
     },
     "user_tz": -330
    },
    "id": "Mbz-DcYafce9",
    "outputId": "05490d7d-2344-4850-951a-e3e84574e852"
   },
   "outputs": [
    {
     "data": {
      "image/png": "[encoded data removed]",
      "text/plain": [
       "<Figure size 1152x1080 with 1 Axes>"
      ]
     },
     "metadata": {},
     "output_type": "display_data"
    }
   ],
   "source": [
    "plt.figure(figsize=(16,15))\n",
    "sns.set(font_scale=2)\n",
    "sns.countplot(y='source_screen_name',data=train,facecolor=(0,0,0,0),linewidth=6,edgecolor=sns.color_palette('dark',3))\n",
    "sns.set(style=\"darkgrid\")\n",
    "plt.xlabel('source types',fontsize=18)\n",
    "plt.ylabel('count',fontsize=18)\n",
    "plt.xticks(rotation='45')\n",
    "plt.title('Count plot for which  screen using ',fontsize=18)\n",
    "plt.tight_layout()"
   ]
  },
  {
   "cell_type": "code",
   "execution_count": null,
   "metadata": {
    "id": "P7EfOXgXhk60"
   },
   "outputs": [],
   "source": [
    "def count_plot(data, x, hue , type):\n",
    "  plt.figure(figsize=(15,10))\n",
    "  sns.set(font_scale=2)\n",
    "  sns.countplot(x = x, hue= hue, data= data)\n",
    "  plt.xlabel(x,fontsize=18)\n",
    "  plt.ylabel('count',fontsize=18)\n",
    "  plt.xticks(rotation = '90')\n",
    "  plt.title('count plot for {0} in {1} data'.format(x,type),fontsize=18)\n",
    "  plt.tight_layout()    "
   ]
  },
  {
   "cell_type": "code",
   "execution_count": null,
   "metadata": {
    "id": "U1IzprR-pBwO"
   },
   "outputs": [],
   "source": [
    "def count_plot_function(data, x):\n",
    "  plt.figure(figsize = (15,8))\n",
    "  sns.set(font_scale = 2)\n",
    "  sns.countplot(x = x, data = data)\n",
    "  plt.xlabel(x, fontsize = 18)\n",
    "  plt.ylabel('count', fontsize = 18)\n",
    "  plt.xticks(rotation = '90')\n",
    "  plt.title('Count plot', fontsize = 18)\n",
    "  plt.tight_layout()"
   ]
  },
  {
   "cell_type": "code",
   "execution_count": null,
   "metadata": {
    "colab": {
     "base_uri": "https://localhost:8080/",
     "height": 698
    },
    "executionInfo": {
     "elapsed": 1109,
     "status": "ok",
     "timestamp": 1650998846384,
     "user": {
      "displayName": "Harsh Bansal",
      "userId": "14022242986795664987"
     },
     "user_tz": -330
    },
    "id": "feqQOTzYpZAi",
    "outputId": "a3393adf-6d39-4284-a644-7532dc3645f2"
   },
   "outputs": [
    {
     "data": {
      "image/png": "[encoded data removed]",
      "text/plain": [
       "<Figure size 1080x720 with 1 Axes>"
      ]
     },
     "metadata": {},
     "output_type": "display_data"
    }
   ],
   "source": [
    "count_plot(train,'target','target','train')"
   ]
  },
  {
   "cell_type": "code",
   "execution_count": null,
   "metadata": {
    "colab": {
     "base_uri": "https://localhost:8080/"
    },
    "executionInfo": {
     "elapsed": 708,
     "status": "ok",
     "timestamp": 1650998847071,
     "user": {
      "displayName": "Harsh Bansal",
      "userId": "14022242986795664987"
     },
     "user_tz": -330
    },
    "id": "Mm7Qkx_TqJVl",
    "outputId": "f389d732-cf23-45c3-b5b8-1acf76fbb295"
   },
   "outputs": [
    {
     "name": "stdout",
     "output_type": "stream",
     "text": [
      "Data for label 1: 45.9576%\n",
      "Data for label 0: 54.0424%\n"
     ]
    }
   ],
   "source": [
    "print('Data for label 1: {:.4f}%'.format(train['target'].value_counts()[0]/train.shape[0]*100))\n",
    "print('Data for label 0: {:.4f}%'.format(train['target'].value_counts()[1]/train.shape[0]*100))"
   ]
  },
  {
   "cell_type": "code",
   "execution_count": null,
   "metadata": {
    "colab": {
     "base_uri": "https://localhost:8080/",
     "height": 698
    },
    "executionInfo": {
     "elapsed": 4653,
     "status": "ok",
     "timestamp": 1650998851714,
     "user": {
      "displayName": "Harsh Bansal",
      "userId": "14022242986795664987"
     },
     "user_tz": -330
    },
    "id": "vftlWAPFqz-N",
    "outputId": "7681fcb5-cd2b-4439-d6b8-250fc6b84154"
   },
   "outputs": [
    {
     "data": {
      "image/png": "[encoded data removed]",
      "text/plain": [
       "<Figure size 1080x720 with 1 Axes>"
      ]
     },
     "metadata": {},
     "output_type": "display_data"
    }
   ],
   "source": [
    "count_plot(train,'source_screen_name','target','train')"
   ]
  },
  {
   "cell_type": "code",
   "execution_count": null,
   "metadata": {
    "colab": {
     "base_uri": "https://localhost:8080/",
     "height": 554
    },
    "executionInfo": {
     "elapsed": 1048,
     "status": "ok",
     "timestamp": 1650998852725,
     "user": {
      "displayName": "Harsh Bansal",
      "userId": "14022242986795664987"
     },
     "user_tz": -330
    },
    "id": "6K7gfRmbxFTK",
    "outputId": "d4682e37-abb2-4054-ca39-87fa2bb0d4f5"
   },
   "outputs": [
    {
     "data": {
      "image/png": "[encoded data removed]",
      "text/plain": [
       "<Figure size 1080x576 with 1 Axes>"
      ]
     },
     "metadata": {},
     "output_type": "display_data"
    }
   ],
   "source": [
    "count_plot_function(mbers,'registered_via') "
   ]
  },
  {
   "cell_type": "code",
   "execution_count": null,
   "metadata": {
    "colab": {
     "base_uri": "https://localhost:8080/",
     "height": 554
    },
    "executionInfo": {
     "elapsed": 38,
     "status": "ok",
     "timestamp": 1650998852732,
     "user": {
      "displayName": "Harsh Bansal",
      "userId": "14022242986795664987"
     },
     "user_tz": -330
    },
    "id": "2Qn4ukKxxZ1O",
    "outputId": "00b96af5-620b-45d2-9584-2b85f9d7d411"
   },
   "outputs": [
    {
     "data": {
      "image/png": "[encoded data removed]",
      "text/plain": [
       "<Figure size 1080x576 with 1 Axes>"
      ]
     },
     "metadata": {},
     "output_type": "display_data"
    }
   ],
   "source": [
    "count_plot_function(mbers,'city')"
   ]
  },
  {
   "cell_type": "code",
   "execution_count": null,
   "metadata": {
    "colab": {
     "base_uri": "https://localhost:8080/",
     "height": 566
    },
    "executionInfo": {
     "elapsed": 1075,
     "status": "ok",
     "timestamp": 1650998853772,
     "user": {
      "displayName": "Harsh Bansal",
      "userId": "14022242986795664987"
     },
     "user_tz": -330
    },
    "id": "7NBC9Hcv1kKk",
    "outputId": "a386aa13-4717-4032-be1e-084106084670"
   },
   "outputs": [
    {
     "data": {
      "text/plain": [
       "Text(0.5, 1.0, 'PDF for registration')"
      ]
     },
     "execution_count": 96,
     "metadata": {},
     "output_type": "execute_result"
    },
    {
     "data": {
      "image/png": "[encoded data removed]",
      "text/plain": [
       "<Figure size 1008x576 with 1 Axes>"
      ]
     },
     "metadata": {},
     "output_type": "display_data"
    }
   ],
   "source": [
    "plt.figure(figsize=(14,8))\n",
    "sns.distplot(mbers.registration_init_time)\n",
    "sns.set(font_scale=2)\n",
    "plt.title('PDF for registration')"
   ]
  },
  {
   "cell_type": "code",
   "execution_count": null,
   "metadata": {
    "id": "kJ-2P3xv2GfL"
   },
   "outputs": [],
   "source": [
    "def plot_pdf_cdf(x,flag):\n",
    "  plt.figure(figsize=(10,6))\n",
    "  kwargs= {'cumulative': True}\n",
    "  if flag:\n",
    "    sns.distplot(x, hist_kws= kwargs, kde_kws= kwargs)\n",
    "    plt.title('CDF for age')\n",
    "  else:\n",
    "    sns.distplot(x)\n",
    "    plt.title('PDF for age')\n",
    "  sns.set(font_scale=2)"
   ]
  },
  {
   "cell_type": "code",
   "execution_count": null,
   "metadata": {
    "colab": {
     "base_uri": "https://localhost:8080/",
     "height": 457
    },
    "executionInfo": {
     "elapsed": 1173,
     "status": "ok",
     "timestamp": 1650998854938,
     "user": {
      "displayName": "Harsh Bansal",
      "userId": "14022242986795664987"
     },
     "user_tz": -330
    },
    "id": "47NtnIeO6U01",
    "outputId": "4fd8b171-6415-426d-b58d-2af9668eb04e"
   },
   "outputs": [
    {
     "data": {
      "text/plain": [
       "<Figure size 1008x576 with 0 Axes>"
      ]
     },
     "metadata": {},
     "output_type": "display_data"
    },
    {
     "data": {
      "image/png": "[encoded data removed]",
      "text/plain": [
       "<Figure size 720x432 with 1 Axes>"
      ]
     },
     "metadata": {},
     "output_type": "display_data"
    }
   ],
   "source": [
    "plt.figure(figsize=(14,8))\n",
    "plot_pdf_cdf(mbers['bd'],False)"
   ]
  },
  {
   "cell_type": "code",
   "execution_count": null,
   "metadata": {
    "colab": {
     "base_uri": "https://localhost:8080/",
     "height": 457
    },
    "executionInfo": {
     "elapsed": 1036,
     "status": "ok",
     "timestamp": 1650998855949,
     "user": {
      "displayName": "Harsh Bansal",
      "userId": "14022242986795664987"
     },
     "user_tz": -330
    },
    "id": "HPsZvFHD6ndP",
    "outputId": "d0fd673b-0a14-4287-b458-a2b741261932"
   },
   "outputs": [
    {
     "data": {
      "text/plain": [
       "<Figure size 1008x576 with 0 Axes>"
      ]
     },
     "metadata": {},
     "output_type": "display_data"
    },
    {
     "data": {
      "image/png": "[encoded data removed]",
      "text/plain": [
       "<Figure size 720x432 with 1 Axes>"
      ]
     },
     "metadata": {},
     "output_type": "display_data"
    }
   ],
   "source": [
    "plt.figure(figsize=(14,8))\n",
    "plot_pdf_cdf(mbers['bd'],True)\n",
    "plt.show()"
   ]
  },
  {
   "cell_type": "code",
   "execution_count": null,
   "metadata": {
    "colab": {
     "base_uri": "https://localhost:8080/"
    },
    "executionInfo": {
     "elapsed": 26,
     "status": "ok",
     "timestamp": 1650998855950,
     "user": {
      "displayName": "Harsh Bansal",
      "userId": "14022242986795664987"
     },
     "user_tz": -330
    },
    "id": "p_PLXYv67EcR",
    "outputId": "151847fa-c618-49d8-f95d-2b09b5c6098d"
   },
   "outputs": [
    {
     "data": {
      "text/plain": [
       "47.0"
      ]
     },
     "execution_count": 100,
     "metadata": {},
     "output_type": "execute_result"
    }
   ],
   "source": [
    "np.percentile(mbers['bd'].values,98)"
   ]
  },
  {
   "cell_type": "code",
   "execution_count": null,
   "metadata": {
    "id": "Ft_fNL7d74gZ"
   },
   "outputs": [],
   "source": [
    "songs_all_info = songs.merge(sng_exta, on='song_id')"
   ]
  },
  {
   "cell_type": "code",
   "execution_count": null,
   "metadata": {
    "id": "F9oZXw4Q8yBB"
   },
   "outputs": [],
   "source": [
    "def isrc_to_year(isrc):\n",
    "  if type(isrc) == str:\n",
    "    if int(isrc[5:7]) > 17:\n",
    "      return 1900 + int(isrc[5:7])\n",
    "    else:\n",
    "      return 2000 + int(isrc[5:7])\n",
    "  else:\n",
    "    return np.nan\n",
    "\n",
    "songs_all_info['song_year'] = songs_all_info['isrc'].apply(isrc_to_year)"
   ]
  },
  {
   "cell_type": "code",
   "execution_count": null,
   "metadata": {
    "colab": {
     "base_uri": "https://localhost:8080/"
    },
    "executionInfo": {
     "elapsed": 19,
     "status": "ok",
     "timestamp": 1650998863077,
     "user": {
      "displayName": "Harsh Bansal",
      "userId": "14022242986795664987"
     },
     "user_tz": -330
    },
    "id": "oQDYxwkq_r5C",
    "outputId": "7ce54126-fa60-46de-a8a8-64d86c0b902e"
   },
   "outputs": [
    {
     "data": {
      "text/plain": [
       "array([ 3., 31., 52., 17., 10., -1., 24., 59., 45., 38., nan])"
      ]
     },
     "execution_count": 103,
     "metadata": {},
     "output_type": "execute_result"
    }
   ],
   "source": [
    "songs_all_info['language'].unique()"
   ]
  },
  {
   "cell_type": "code",
   "execution_count": null,
   "metadata": {
    "colab": {
     "base_uri": "https://localhost:8080/",
     "height": 554
    },
    "executionInfo": {
     "elapsed": 938,
     "status": "ok",
     "timestamp": 1650998864003,
     "user": {
      "displayName": "Harsh Bansal",
      "userId": "14022242986795664987"
     },
     "user_tz": -330
    },
    "id": "YSChUbLEBs7T",
    "outputId": "db56a2a8-72ac-4eea-9a3b-0fe8f3758ce1"
   },
   "outputs": [
    {
     "data": {
      "image/png": "[encoded data removed]",
      "text/plain": [
       "<Figure size 1080x576 with 1 Axes>"
      ]
     },
     "metadata": {},
     "output_type": "display_data"
    }
   ],
   "source": [
    "count_plot_function(songs_all_info,'language')"
   ]
  },
  {
   "cell_type": "code",
   "execution_count": null,
   "metadata": {
    "id": "kT2ttFhfB4Rd"
   },
   "outputs": [],
   "source": [
    "def check_missing_values(df):                 \n",
    "  \n",
    "  for col in df.columns:\n",
    "    nan_count = df[col].isnull().sum()\n",
    "    total = df.shape[0]\n",
    "    percentage = nan_count/total * 100\n",
    "    print(col, 'has {:.2f}% missing values'.format(percentage))"
   ]
  },
  {
   "cell_type": "code",
   "execution_count": null,
   "metadata": {
    "colab": {
     "base_uri": "https://localhost:8080/"
    },
    "executionInfo": {
     "elapsed": 660,
     "status": "ok",
     "timestamp": 1650998864647,
     "user": {
      "displayName": "Harsh Bansal",
      "userId": "14022242986795664987"
     },
     "user_tz": -330
    },
    "id": "earYCvcuLma6",
    "outputId": "512185a4-75f8-4cf7-862f-adf951025378"
   },
   "outputs": [
    {
     "name": "stdout",
     "output_type": "stream",
     "text": [
      "*******Missing values analysis for train data******** \n",
      "\n",
      "msno has 0.00% missing values\n",
      "song_id has 0.00% missing values\n",
      "source_system_tab has 0.34% missing values\n",
      "source_screen_name has 5.35% missing values\n",
      "source_type has 0.29% missing values\n",
      "target has 0.00% missing values\n"
     ]
    }
   ],
   "source": [
    "print('*******Missing values analysis for train data******** \\n')\n",
    "check_missing_values(train)"
   ]
  },
  {
   "cell_type": "code",
   "execution_count": null,
   "metadata": {
    "colab": {
     "base_uri": "https://localhost:8080/"
    },
    "executionInfo": {
     "elapsed": 381,
     "status": "ok",
     "timestamp": 1650998865011,
     "user": {
      "displayName": "Harsh Bansal",
      "userId": "14022242986795664987"
     },
     "user_tz": -330
    },
    "id": "9qPlQvNLLmZG",
    "outputId": "2f96c5ae-f568-46de-efa5-ff8bbee64134"
   },
   "outputs": [
    {
     "name": "stdout",
     "output_type": "stream",
     "text": [
      "*******Missing values analysis for memebrs data*******\n",
      "\n",
      "msno has 0.00% missing values\n",
      "city has 0.00% missing values\n",
      "bd has 0.00% missing values\n",
      "gender has 57.85% missing values\n",
      "registered_via has 0.00% missing values\n",
      "registration_init_time has 0.00% missing values\n",
      "expiration_date has 0.00% missing values\n"
     ]
    }
   ],
   "source": [
    "print('*******Missing values analysis for memebrs data*******\\n')\n",
    "check_missing_values(mbers)"
   ]
  },
  {
   "cell_type": "code",
   "execution_count": null,
   "metadata": {
    "colab": {
     "base_uri": "https://localhost:8080/"
    },
    "executionInfo": {
     "elapsed": 428,
     "status": "ok",
     "timestamp": 1650998865430,
     "user": {
      "displayName": "Harsh Bansal",
      "userId": "14022242986795664987"
     },
     "user_tz": -330
    },
    "id": "qtmqeqpNLmWw",
    "outputId": "5cf4fa16-0fe1-49a6-ced8-02e8d11a99ee"
   },
   "outputs": [
    {
     "name": "stdout",
     "output_type": "stream",
     "text": [
      "******Missing values analysis for songs data*****\n",
      "\n",
      "song_id has 0.00% missing values\n",
      "song_length has 0.00% missing values\n",
      "genre_ids has 4.10% missing values\n",
      "artist_name has 0.00% missing values\n",
      "composer has 46.66% missing values\n",
      "lyricist has 84.71% missing values\n",
      "language has 0.00% missing values\n"
     ]
    }
   ],
   "source": [
    "print('******Missing values analysis for songs data*****\\n')\n",
    "check_missing_values(songs)"
   ]
  },
  {
   "cell_type": "code",
   "execution_count": null,
   "metadata": {
    "colab": {
     "base_uri": "https://localhost:8080/"
    },
    "executionInfo": {
     "elapsed": 1307,
     "status": "ok",
     "timestamp": 1650998866730,
     "user": {
      "displayName": "Harsh Bansal",
      "userId": "14022242986795664987"
     },
     "user_tz": -330
    },
    "id": "DgrS01STLmUj",
    "outputId": "8fe9293d-2f4d-4dd3-d3da-c5c4ec4acb42"
   },
   "outputs": [
    {
     "name": "stdout",
     "output_type": "stream",
     "text": [
      "*****Missing values analysis for songs_all_info data******\n",
      "\n",
      "song_id has 0.00% missing values\n",
      "song_length has 0.00% missing values\n",
      "genre_ids has 4.10% missing values\n",
      "artist_name has 0.00% missing values\n",
      "composer has 46.66% missing values\n",
      "lyricist has 84.71% missing values\n",
      "language has 0.00% missing values\n",
      "name has 0.00% missing values\n",
      "isrc has 5.95% missing values\n",
      "song_year has 5.95% missing values\n"
     ]
    }
   ],
   "source": [
    "print('*****Missing values analysis for songs_all_info data******\\n')\n",
    "check_missing_values(songs_all_info)"
   ]
  },
  {
   "cell_type": "code",
   "execution_count": null,
   "metadata": {
    "id": "-soXsyaRLmSp"
   },
   "outputs": [],
   "source": [
    "train_members = pd.merge(train, mbers, on='msno', how='left')\n",
    "train_merged = pd.merge(train_members, songs_all_info, on='song_id', how='left')\n",
    "\n",
    "test_members = pd.merge(test, mbers, on='msno', how='left')\n",
    "test_merged = pd.merge(test_members, songs_all_info, on='song_id', how='left')"
   ]
  },
  {
   "cell_type": "code",
   "execution_count": null,
   "metadata": {
    "id": "ReZWEI48LmQ5"
   },
   "outputs": [],
   "source": [
    "del train_members\n",
    "del test_members"
   ]
  },
  {
   "cell_type": "code",
   "execution_count": null,
   "metadata": {
    "colab": {
     "base_uri": "https://localhost:8080/"
    },
    "executionInfo": {
     "elapsed": 3500,
     "status": "ok",
     "timestamp": 1650998889637,
     "user": {
      "displayName": "Harsh Bansal",
      "userId": "14022242986795664987"
     },
     "user_tz": -330
    },
    "id": "VFW4mAlTLmO7",
    "outputId": "e50e8807-f97c-4fd5-d5e8-38b611e99a68"
   },
   "outputs": [
    {
     "name": "stdout",
     "output_type": "stream",
     "text": [
      "msno has 0.00% missing values\n",
      "song_id has 0.00% missing values\n",
      "source_system_tab has 0.34% missing values\n",
      "source_screen_name has 5.35% missing values\n",
      "source_type has 0.29% missing values\n",
      "target has 0.00% missing values\n",
      "city has 0.00% missing values\n",
      "bd has 0.00% missing values\n",
      "gender has 39.68% missing values\n",
      "registered_via has 0.00% missing values\n",
      "registration_init_time has 0.00% missing values\n",
      "expiration_date has 0.00% missing values\n",
      "song_length has 0.02% missing values\n",
      "genre_ids has 1.56% missing values\n",
      "artist_name has 0.02% missing values\n",
      "composer has 22.56% missing values\n",
      "lyricist has 42.67% missing values\n",
      "language has 0.02% missing values\n",
      "name has 0.02% missing values\n",
      "isrc has 7.77% missing values\n",
      "song_year has 7.77% missing values\n"
     ]
    }
   ],
   "source": [
    "check_missing_values(train_merged)"
   ]
  },
  {
   "cell_type": "code",
   "execution_count": null,
   "metadata": {
    "id": "T8lXwqoTLmMy"
   },
   "outputs": [],
   "source": [
    "members = pd.read_csv('members.csv')\n",
    "songs = pd.read_csv('songs.csv')\n",
    "songs_extra = pd.read_csv('song_extra_info.csv')\n",
    "train = pd.read_csv('train.csv')\n",
    "test = pd.read_csv('test.csv')"
   ]
  },
  {
   "cell_type": "code",
   "execution_count": null,
   "metadata": {
    "id": "P66JnRYULmHv"
   },
   "outputs": [],
   "source": [
    "tr_index = train.shape[0] * 8 // 10"
   ]
  },
  {
   "cell_type": "code",
   "execution_count": null,
   "metadata": {
    "colab": {
     "base_uri": "https://localhost:8080/"
    },
    "executionInfo": {
     "elapsed": 39,
     "status": "ok",
     "timestamp": 1650998917074,
     "user": {
      "displayName": "Harsh Bansal",
      "userId": "14022242986795664987"
     },
     "user_tz": -330
    },
    "id": "y4T7DFhMLmGF",
    "outputId": "ef264440-b1b6-4fd6-88a3-b9a5fa4b0c00"
   },
   "outputs": [
    {
     "name": "stdout",
     "output_type": "stream",
     "text": [
      "(4233803, 6) (1058451, 6) (2556790, 6)\n"
     ]
    }
   ],
   "source": [
    "train_data = train.iloc[:tr_index]\n",
    "val_data = train.iloc[tr_index:]\n",
    "print(train_data.shape, val_data.shape, test.shape)"
   ]
  },
  {
   "cell_type": "code",
   "execution_count": null,
   "metadata": {
    "id": "TZGjdRipLmDf"
   },
   "outputs": [],
   "source": [
    "# merge with members\n",
    "train_members = pd.merge(train_data, mbers, on='msno', how='left')\n",
    "val_members = pd.merge(val_data, mbers, on='msno', how='left')\n",
    "test_members = pd.merge(test, mbers, on='msno', how='left')"
   ]
  },
  {
   "cell_type": "code",
   "execution_count": null,
   "metadata": {
    "id": "9KtjQK71LmBU"
   },
   "outputs": [],
   "source": [
    "# merge songs and songs_extra\n",
    "songs_all = pd.merge(songs, songs_extra, on='song_id', how='left')"
   ]
  },
  {
   "cell_type": "code",
   "execution_count": null,
   "metadata": {
    "id": "Iv6aq0BSLl-G"
   },
   "outputs": [],
   "source": [
    "# merge with members\n",
    "train_all = pd.merge(train_members, songs_all, on='song_id', how='left')\n",
    "val_all = pd.merge(val_members, songs_all, on='song_id', how='left')\n",
    "test_all = pd.merge(test_members, songs_all, on='song_id', how='left')"
   ]
  },
  {
   "cell_type": "code",
   "execution_count": null,
   "metadata": {
    "id": "KIMSwb0gLl8S"
   },
   "outputs": [],
   "source": [
    "del train_members\n",
    "del val_members\n",
    "del test_members\n",
    "del songs_all\n",
    "del train_data\n",
    "del val_data\n",
    "del train, test"
   ]
  },
  {
   "cell_type": "code",
   "execution_count": null,
   "metadata": {
    "id": "kw_5s7lULl6Z"
   },
   "outputs": [],
   "source": [
    "def filter_age(x):\n",
    "  # 98th percentile is 47\n",
    "\n",
    "  if x >= 0 and x <= 75:\n",
    "    return x\n",
    "  else:\n",
    "    return np.nan\n",
    "\n",
    "train_all['bd'] = train_all['bd'].apply(filter_age)\n",
    "val_all['bd'] = val_all['bd'].apply(filter_age)\n",
    "test_all['bd'] = test_all['bd'].apply(filter_age)"
   ]
  },
  {
   "cell_type": "code",
   "execution_count": null,
   "metadata": {
    "id": "6vwlsfBYLl4R"
   },
   "outputs": [],
   "source": [
    "# Function to extract features like day, month, year from dates.\n",
    "\n",
    "def extract_date_fatures(data):\n",
    "\n",
    "  # convert into date format\n",
    "  data['expiration_date'] = pd.to_datetime(data['expiration_date'], format='%Y%m%d')\n",
    "  data['registration_init_time'] = pd.to_datetime(data['registration_init_time'], format='%Y%m%d')\n",
    "  \n",
    "  # get membership period from registration and expiration dates\n",
    "  data['membership_days'] = data['expiration_date'].subtract(data['registration_init_time']).dt.days.astype(int)\n",
    "\n",
    "  # extract year, month and day from dates\n",
    "  data['registration_year'] = data['registration_init_time'].dt.year\n",
    "  data['registration_month'] = data['registration_init_time'].dt.month\n",
    "  data['registration_day'] = data['registration_init_time'].dt.day\n",
    "\n",
    "  data['expiration_year'] = data['expiration_date'].dt.year\n",
    "  data['expiration_month'] = data['expiration_date'].dt.month\n",
    "  data['expiration_day'] = data['expiration_date'].dt.day\n",
    "\n",
    "  return data\n",
    "\n",
    "train_all = extract_date_fatures(train_all)\n",
    "val_all = extract_date_fatures(val_all)\n",
    "test_all = extract_date_fatures(test_all)"
   ]
  },
  {
   "cell_type": "code",
   "execution_count": null,
   "metadata": {
    "colab": {
     "base_uri": "https://localhost:8080/",
     "height": 369
    },
    "executionInfo": {
     "elapsed": 55,
     "status": "ok",
     "timestamp": 1650998953269,
     "user": {
      "displayName": "Harsh Bansal",
      "userId": "14022242986795664987"
     },
     "user_tz": -330
    },
    "id": "Mg8Wj52pLl2k",
    "outputId": "90fa0ebb-baa9-4b35-85d4-8a345238327a"
   },
   "outputs": [
    {
     "data": {
      "text/html": [
       "\n",
       "  <div id=\"df-daf464c2-388b-4678-8439-19eb91f99d9d\">\n",
       "    <div class=\"colab-df-container\">\n",
       "      <div>\n",
       "<style scoped>\n",
       "    .dataframe tbody tr th:only-of-type {\n",
       "        vertical-align: middle;\n",
       "    }\n",
       "\n",
       "    .dataframe tbody tr th {\n",
       "        vertical-align: top;\n",
       "    }\n",
       "\n",
       "    .dataframe thead th {\n",
       "        text-align: right;\n",
       "    }\n",
       "</style>\n",
       "<table border=\"1\" class=\"dataframe\">\n",
       "  <thead>\n",
       "    <tr style=\"text-align: right;\">\n",
       "      <th></th>\n",
       "      <th>msno</th>\n",
       "      <th>song_id</th>\n",
       "      <th>source_system_tab</th>\n",
       "      <th>source_screen_name</th>\n",
       "      <th>source_type</th>\n",
       "      <th>target</th>\n",
       "      <th>city</th>\n",
       "      <th>bd</th>\n",
       "      <th>gender</th>\n",
       "      <th>registered_via</th>\n",
       "      <th>...</th>\n",
       "      <th>language</th>\n",
       "      <th>name</th>\n",
       "      <th>isrc</th>\n",
       "      <th>membership_days</th>\n",
       "      <th>registration_year</th>\n",
       "      <th>registration_month</th>\n",
       "      <th>registration_day</th>\n",
       "      <th>expiration_year</th>\n",
       "      <th>expiration_month</th>\n",
       "      <th>expiration_day</th>\n",
       "    </tr>\n",
       "  </thead>\n",
       "  <tbody>\n",
       "    <tr>\n",
       "      <th>4233798</th>\n",
       "      <td>Kgd/ZGidRZIRdwtfDC8M/dvOaVEyvB4TdHb3W6wXFtI=</td>\n",
       "      <td>QjRlzbxmVxusW6CP2Xr8GjX3BnPitUMFBxCWxd/5AKY=</td>\n",
       "      <td>my library</td>\n",
       "      <td>Local playlist more</td>\n",
       "      <td>local-playlist</td>\n",
       "      <td>1.0</td>\n",
       "      <td>13</td>\n",
       "      <td>21.0</td>\n",
       "      <td>female</td>\n",
       "      <td>9</td>\n",
       "      <td>...</td>\n",
       "      <td>52.0</td>\n",
       "      <td>Payphone</td>\n",
       "      <td>USUM71203347</td>\n",
       "      <td>2363</td>\n",
       "      <td>2011</td>\n",
       "      <td>5</td>\n",
       "      <td>3</td>\n",
       "      <td>2017</td>\n",
       "      <td>10</td>\n",
       "      <td>21</td>\n",
       "    </tr>\n",
       "    <tr>\n",
       "      <th>4233799</th>\n",
       "      <td>n3q/1dSAs4NpDhxHPb2R1WjxaAyASXFHjTXQIAtXMm4=</td>\n",
       "      <td>j45X3ybi3MU49C3ClbSiV4yUKuC1RLJRfdQI/AIr6uA=</td>\n",
       "      <td>discover</td>\n",
       "      <td>Discover Feature</td>\n",
       "      <td>online-playlist</td>\n",
       "      <td>0.0</td>\n",
       "      <td>9</td>\n",
       "      <td>0.0</td>\n",
       "      <td>NaN</td>\n",
       "      <td>7</td>\n",
       "      <td>...</td>\n",
       "      <td>3.0</td>\n",
       "      <td>小薇</td>\n",
       "      <td>TWA450272403</td>\n",
       "      <td>2534</td>\n",
       "      <td>2010</td>\n",
       "      <td>10</td>\n",
       "      <td>29</td>\n",
       "      <td>2017</td>\n",
       "      <td>10</td>\n",
       "      <td>6</td>\n",
       "    </tr>\n",
       "    <tr>\n",
       "      <th>4233800</th>\n",
       "      <td>n3q/1dSAs4NpDhxHPb2R1WjxaAyASXFHjTXQIAtXMm4=</td>\n",
       "      <td>m2EIFRLw/qsdUEYdhCOCRoQJFz3ZHN+uxSaf29MezoU=</td>\n",
       "      <td>discover</td>\n",
       "      <td>Discover Feature</td>\n",
       "      <td>online-playlist</td>\n",
       "      <td>0.0</td>\n",
       "      <td>9</td>\n",
       "      <td>0.0</td>\n",
       "      <td>NaN</td>\n",
       "      <td>7</td>\n",
       "      <td>...</td>\n",
       "      <td>3.0</td>\n",
       "      <td>陪著我的時候想著她</td>\n",
       "      <td>TWA211125901</td>\n",
       "      <td>2534</td>\n",
       "      <td>2010</td>\n",
       "      <td>10</td>\n",
       "      <td>29</td>\n",
       "      <td>2017</td>\n",
       "      <td>10</td>\n",
       "      <td>6</td>\n",
       "    </tr>\n",
       "    <tr>\n",
       "      <th>4233801</th>\n",
       "      <td>7VzSlva0ZIQfLa6DeqKQ+A8aI7Ym5QITfE/WWxzwfzc=</td>\n",
       "      <td>+ChF0l3KHku79/g9kCPjueP4IdaJNTQC9QrbKRC/MDY=</td>\n",
       "      <td>my library</td>\n",
       "      <td>Local playlist more</td>\n",
       "      <td>local-library</td>\n",
       "      <td>0.0</td>\n",
       "      <td>13</td>\n",
       "      <td>27.0</td>\n",
       "      <td>male</td>\n",
       "      <td>9</td>\n",
       "      <td>...</td>\n",
       "      <td>3.0</td>\n",
       "      <td>超跑女神</td>\n",
       "      <td>TWK971101211</td>\n",
       "      <td>1553</td>\n",
       "      <td>2013</td>\n",
       "      <td>6</td>\n",
       "      <td>26</td>\n",
       "      <td>2017</td>\n",
       "      <td>9</td>\n",
       "      <td>26</td>\n",
       "    </tr>\n",
       "    <tr>\n",
       "      <th>4233802</th>\n",
       "      <td>/JzBmukxqe9h+wdXkd5q4XXyyBZdCVe9VR7zHVxAyMU=</td>\n",
       "      <td>fEAIgFRWmhXmo6m3ukQeqRksZCcO/7CjkqNckRHiVQo=</td>\n",
       "      <td>search</td>\n",
       "      <td>Search</td>\n",
       "      <td>song</td>\n",
       "      <td>1.0</td>\n",
       "      <td>12</td>\n",
       "      <td>22.0</td>\n",
       "      <td>female</td>\n",
       "      <td>3</td>\n",
       "      <td>...</td>\n",
       "      <td>3.0</td>\n",
       "      <td>皇后區的皇后</td>\n",
       "      <td>TWUM71600104</td>\n",
       "      <td>1482</td>\n",
       "      <td>2013</td>\n",
       "      <td>9</td>\n",
       "      <td>14</td>\n",
       "      <td>2017</td>\n",
       "      <td>10</td>\n",
       "      <td>5</td>\n",
       "    </tr>\n",
       "  </tbody>\n",
       "</table>\n",
       "<p>5 rows × 27 columns</p>\n",
       "</div>\n",
       "      <button class=\"colab-df-convert\" onclick=\"convertToInteractive('df-daf464c2-388b-4678-8439-19eb91f99d9d')\"\n",
       "              title=\"Convert this dataframe to an interactive table.\"\n",
       "              style=\"display:none;\">\n",
       "        \n",
       "  <svg xmlns=\"http://www.w3.org/2000/svg\" height=\"24px\"viewBox=\"0 0 24 24\"\n",
       "       width=\"24px\">\n",
       "    <path d=\"M0 0h24v24H0V0z\" fill=\"none\"/>\n",
       "    <path d=\"M18.56 5.44l.94 2.06.94-2.06 2.06-.94-2.06-.94-.94-2.06-.94 2.06-2.06.94zm-11 1L8.5 8.5l.94-2.06 2.06-.94-2.06-.94L8.5 2.5l-.94 2.06-2.06.94zm10 10l.94 2.06.94-2.06 2.06-.94-2.06-.94-.94-2.06-.94 2.06-2.06.94z\"/><path d=\"M17.41 7.96l-1.37-1.37c-.4-.4-.92-.59-1.43-.59-.52 0-1.04.2-1.43.59L10.3 9.45l-7.72 7.72c-.78.78-.78 2.05 0 2.83L4 21.41c.39.39.9.59 1.41.59.51 0 1.02-.2 1.41-.59l7.78-7.78 2.81-2.81c.8-.78.8-2.07 0-2.86zM5.41 20L4 18.59l7.72-7.72 1.47 1.35L5.41 20z\"/>\n",
       "  </svg>\n",
       "      </button>\n",
       "      \n",
       "  <style>\n",
       "    .colab-df-container {\n",
       "      display:flex;\n",
       "      flex-wrap:wrap;\n",
       "      gap: 12px;\n",
       "    }\n",
       "\n",
       "    .colab-df-convert {\n",
       "      background-color: #E8F0FE;\n",
       "      border: none;\n",
       "      border-radius: 50%;\n",
       "      cursor: pointer;\n",
       "      display: none;\n",
       "      fill: #1967D2;\n",
       "      height: 32px;\n",
       "      padding: 0 0 0 0;\n",
       "      width: 32px;\n",
       "    }\n",
       "\n",
       "    .colab-df-convert:hover {\n",
       "      background-color: #E2EBFA;\n",
       "      box-shadow: 0px 1px 2px rgba(60, 64, 67, 0.3), 0px 1px 3px 1px rgba(60, 64, 67, 0.15);\n",
       "      fill: #174EA6;\n",
       "    }\n",
       "\n",
       "    [theme=dark] .colab-df-convert {\n",
       "      background-color: #3B4455;\n",
       "      fill: #D2E3FC;\n",
       "    }\n",
       "\n",
       "    [theme=dark] .colab-df-convert:hover {\n",
       "      background-color: #434B5C;\n",
       "      box-shadow: 0px 1px 3px 1px rgba(0, 0, 0, 0.15);\n",
       "      filter: drop-shadow(0px 1px 2px rgba(0, 0, 0, 0.3));\n",
       "      fill: #FFFFFF;\n",
       "    }\n",
       "  </style>\n",
       "\n",
       "      <script>\n",
       "        const buttonEl =\n",
       "          document.querySelector('#df-daf464c2-388b-4678-8439-19eb91f99d9d button.colab-df-convert');\n",
       "        buttonEl.style.display =\n",
       "          google.colab.kernel.accessAllowed ? 'block' : 'none';\n",
       "\n",
       "        async function convertToInteractive(key) {\n",
       "          const element = document.querySelector('#df-daf464c2-388b-4678-8439-19eb91f99d9d');\n",
       "          const dataTable =\n",
       "            await google.colab.kernel.invokeFunction('convertToInteractive',\n",
       "                                                     [key], {});\n",
       "          if (!dataTable) return;\n",
       "\n",
       "          const docLinkHtml = 'Like what you see? Visit the ' +\n",
       "            '<a target=\"_blank\" href=https://colab.research.google.com/notebooks/data_table.ipynb>data table notebook</a>'\n",
       "            + ' to learn more about interactive tables.';\n",
       "          element.innerHTML = '';\n",
       "          dataTable['output_type'] = 'display_data';\n",
       "          await google.colab.output.renderOutput(dataTable, element);\n",
       "          const docLink = document.createElement('div');\n",
       "          docLink.innerHTML = docLinkHtml;\n",
       "          element.appendChild(docLink);\n",
       "        }\n",
       "      </script>\n",
       "    </div>\n",
       "  </div>\n",
       "  "
      ],
      "text/plain": [
       "                                                 msno  \\\n",
       "4233798  Kgd/ZGidRZIRdwtfDC8M/dvOaVEyvB4TdHb3W6wXFtI=   \n",
       "4233799  n3q/1dSAs4NpDhxHPb2R1WjxaAyASXFHjTXQIAtXMm4=   \n",
       "4233800  n3q/1dSAs4NpDhxHPb2R1WjxaAyASXFHjTXQIAtXMm4=   \n",
       "4233801  7VzSlva0ZIQfLa6DeqKQ+A8aI7Ym5QITfE/WWxzwfzc=   \n",
       "4233802  /JzBmukxqe9h+wdXkd5q4XXyyBZdCVe9VR7zHVxAyMU=   \n",
       "\n",
       "                                              song_id source_system_tab  \\\n",
       "4233798  QjRlzbxmVxusW6CP2Xr8GjX3BnPitUMFBxCWxd/5AKY=        my library   \n",
       "4233799  j45X3ybi3MU49C3ClbSiV4yUKuC1RLJRfdQI/AIr6uA=          discover   \n",
       "4233800  m2EIFRLw/qsdUEYdhCOCRoQJFz3ZHN+uxSaf29MezoU=          discover   \n",
       "4233801  +ChF0l3KHku79/g9kCPjueP4IdaJNTQC9QrbKRC/MDY=        my library   \n",
       "4233802  fEAIgFRWmhXmo6m3ukQeqRksZCcO/7CjkqNckRHiVQo=            search   \n",
       "\n",
       "          source_screen_name      source_type  target  city    bd  gender  \\\n",
       "4233798  Local playlist more   local-playlist     1.0    13  21.0  female   \n",
       "4233799     Discover Feature  online-playlist     0.0     9   0.0     NaN   \n",
       "4233800     Discover Feature  online-playlist     0.0     9   0.0     NaN   \n",
       "4233801  Local playlist more    local-library     0.0    13  27.0    male   \n",
       "4233802               Search             song     1.0    12  22.0  female   \n",
       "\n",
       "         registered_via  ... language       name          isrc  \\\n",
       "4233798               9  ...     52.0   Payphone  USUM71203347   \n",
       "4233799               7  ...      3.0         小薇  TWA450272403   \n",
       "4233800               7  ...      3.0  陪著我的時候想著她  TWA211125901   \n",
       "4233801               9  ...      3.0       超跑女神  TWK971101211   \n",
       "4233802               3  ...      3.0     皇后區的皇后  TWUM71600104   \n",
       "\n",
       "        membership_days registration_year registration_month registration_day  \\\n",
       "4233798            2363              2011                  5                3   \n",
       "4233799            2534              2010                 10               29   \n",
       "4233800            2534              2010                 10               29   \n",
       "4233801            1553              2013                  6               26   \n",
       "4233802            1482              2013                  9               14   \n",
       "\n",
       "         expiration_year expiration_month expiration_day  \n",
       "4233798             2017               10             21  \n",
       "4233799             2017               10              6  \n",
       "4233800             2017               10              6  \n",
       "4233801             2017                9             26  \n",
       "4233802             2017               10              5  \n",
       "\n",
       "[5 rows x 27 columns]"
      ]
     },
     "execution_count": 122,
     "metadata": {},
     "output_type": "execute_result"
    }
   ],
   "source": [
    "train_all.tail(5)"
   ]
  },
  {
   "cell_type": "code",
   "execution_count": null,
   "metadata": {
    "id": "Hefw9Nc_Ll0r"
   },
   "outputs": [],
   "source": [
    "# Filling missing values\n",
    "def filling_missing_values(data):\n",
    "  data['source_system_tab'].fillna('no_system_tab', inplace=True)\n",
    "  data['source_screen_name'].fillna('no_screen_name', inplace=True)\n",
    "  data['source_type'].fillna('np_source_type', inplace=True)\n",
    "  data['bd'].fillna(0, inplace=True)\n",
    "  data['gender'].fillna('gender_missing', inplace=True)\n",
    "  data['song_length'].fillna(0, inplace=True)\n",
    "  data['genre_ids'].fillna(0, inplace=True)\n",
    "  data['lyricist'].fillna('no_lyricist', inplace=True)\n",
    "  data['artist_name'].fillna('no_artist_name', inplace=True)\n",
    "  data['composer'].fillna('no_composer', inplace=True)\n",
    "  data['language'].fillna('no_language', inplace=True)\n",
    "  data['name'].fillna('no_name', inplace=True)\n",
    "  return data\n",
    "\n",
    "train_all = filling_missing_values(train_all)\n",
    "val_all = filling_missing_values(val_all)\n",
    "test_all = filling_missing_values(test_all)"
   ]
  },
  {
   "cell_type": "code",
   "execution_count": null,
   "metadata": {
    "id": "bXO4_p8SLly4"
   },
   "outputs": [],
   "source": [
    "# Function to sepearate each genre_id and count total number of genre_ids.\n",
    "\n",
    "def generate_genre_ids(data):\n",
    "\n",
    "  genre_ids_matrix = np.zeros((data.shape[0], 4))\n",
    "\n",
    "  for i in range(data.shape[0]):\n",
    "    ids = str(data['genre_ids'].values[i]).split('|')\n",
    "    if len(ids) > 2:\n",
    "        genre_ids_matrix[i, 0] = (ids[0])\n",
    "        genre_ids_matrix[i, 1] = (ids[1])\n",
    "        genre_ids_matrix[i, 2] = (ids[2])\n",
    "    elif len(ids) > 1:\n",
    "        genre_ids_matrix[i, 0] = (ids[0])\n",
    "        genre_ids_matrix[i, 1] = (ids[1])\n",
    "    elif len(ids) == 1:\n",
    "        genre_ids_matrix[i, 0] = (ids[0])\n",
    "    genre_ids_matrix[i, 3] = len(ids)\n",
    "\n",
    "  data['first_genre_id'] = genre_ids_matrix[:, 0] # keeps first genre_id\n",
    "  data['second_genre_id'] = genre_ids_matrix[:, 1] # keeps second genre_id\n",
    "  data['third_genre_id'] = genre_ids_matrix[:, 2] # keeps third genre_id\n",
    "  data['genre_ids_count'] = genre_ids_matrix[:, 3] # keeps count of genre_ids\n",
    "  return data"
   ]
  },
  {
   "cell_type": "code",
   "execution_count": null,
   "metadata": {
    "id": "F7aywO8LLlxB"
   },
   "outputs": [],
   "source": [
    "train_all = generate_genre_ids(train_all)\n",
    "val_all = generate_genre_ids(val_all)\n",
    "test_all = generate_genre_ids(test_all)"
   ]
  },
  {
   "cell_type": "code",
   "execution_count": null,
   "metadata": {
    "id": "nt89oKbELlvN"
   },
   "outputs": [],
   "source": [
    "train_all = train_all.drop(['composer', 'lyricist'], axis=1)\n",
    "val_all = val_all.drop(['composer', 'lyricist'], axis=1)\n",
    "test_all = test_all.drop(['composer', 'lyricist'], axis=1)"
   ]
  },
  {
   "cell_type": "code",
   "execution_count": null,
   "metadata": {
    "id": "xzHfo0n-Lltb"
   },
   "outputs": [],
   "source": [
    "# Function to check 'feat' in artist field.\n",
    "def calculate_is_featured(data):\n",
    "  data['is_featured'] = data['artist_name'].apply(lambda x: 1 if ' feat' in str(x) else 0).astype(np.int8)\n",
    "  return data\n",
    "\n",
    "\n",
    "train_all = calculate_is_featured(train_all)\n",
    "val_all = calculate_is_featured(val_all)\n",
    "test_all = calculate_is_featured(test_all)"
   ]
  },
  {
   "cell_type": "code",
   "execution_count": null,
   "metadata": {
    "id": "A1zjRZZrLlrN"
   },
   "outputs": [],
   "source": [
    "# Function to count total number of artists for each song.\n",
    "\n",
    "def artist_count(x):\n",
    "  return x.count('and') + x.count(',') + x.count(' feat') + x.count('&') + 1\n",
    "\n",
    "# Function to extract first artist name from more than one artists.\n",
    "\n",
    "def get_first_artist(x):\n",
    "  if x.count('and') > 0:\n",
    "    x = x.split('and')[0]\n",
    "  if x.count(',') > 0:\n",
    "    x = x.split(',')[0]\n",
    "  if x.count(' feat') > 0:\n",
    "    x = x.split(' feat')[0]\n",
    "  if x.count('&') > 0:\n",
    "    x = x.split('&')[0]\n",
    "  return x.strip()"
   ]
  },
  {
   "cell_type": "code",
   "execution_count": null,
   "metadata": {
    "id": "ZYgLcuPcLlom"
   },
   "outputs": [],
   "source": [
    "# Function to execute above both functions.\n",
    "\n",
    "def calculate_artist_features(data):\n",
    "\n",
    "  # get artist count \n",
    "  data['artist_count'] = data['artist_name'].apply(artist_count).astype(np.int8)\n",
    "  # get first artist name\n",
    "  data['first_artist_name'] = data['artist_name'].apply(get_first_artist)\n",
    "  return data"
   ]
  },
  {
   "cell_type": "code",
   "execution_count": null,
   "metadata": {
    "id": "9TI66kLFLll-"
   },
   "outputs": [],
   "source": [
    "train_all = calculate_artist_features(train_all)\n",
    "val_all = calculate_artist_features(val_all)\n",
    "test_all = calculate_artist_features(test_all)"
   ]
  },
  {
   "cell_type": "code",
   "execution_count": null,
   "metadata": {
    "id": "DqqxFoFSLlj0"
   },
   "outputs": [],
   "source": [
    "# songs_extra file has feature like 'isrc' which is International Standard Recording Code. \n",
    "# For each song its isrc is unique which contains information like countr_code, registraion_code, year of reference and designation code.\n",
    "#Function to extract features from isrc.\n",
    "\n",
    "def calcualte_songs_features(data):\n",
    "\n",
    "  isrc = data['isrc']\n",
    "  data['country_code'] = isrc.str.slice(0, 2)\n",
    "  data['registration_code'] = isrc.str.slice(2, 5)\n",
    "  data['song_year'] = isrc.str.slice(5, 7).astype(float)\n",
    "  data['song_year'] = data['song_year'].apply(lambda x: 2000+x if x < 18 else 1900+x)\n",
    "  data['isrc_missing'] = (data['country_code'] == 0) * 1.0\n",
    "  return data\n",
    "\n",
    "train_all = calcualte_songs_features(train_all)\n",
    "val_all = calcualte_songs_features(val_all)\n",
    "test_all = calcualte_songs_features(test_all)"
   ]
  },
  {
   "cell_type": "code",
   "execution_count": null,
   "metadata": {
    "id": "Jw5EshLWLlgw"
   },
   "outputs": [],
   "source": [
    "# Function to fill missing isrc values.\n",
    "\n",
    "def filling_missing_isrc_values(data):\n",
    "  data['isrc'].fillna('no_isrc', inplace=True)\n",
    "  data['country_code'].fillna('no_country_code', inplace=True)\n",
    "  data['registration_code'].fillna('no_registration_code', inplace=True)\n",
    "  data['song_year'].fillna('no_song_year', inplace=True)\n",
    "  return data\n",
    "\n",
    "train_all = filling_missing_isrc_values(train_all)\n",
    "val_all = filling_missing_isrc_values(val_all)\n",
    "test_all = filling_missing_isrc_values(test_all)"
   ]
  },
  {
   "cell_type": "code",
   "execution_count": null,
   "metadata": {
    "id": "TIP5Qky6Lle6"
   },
   "outputs": [],
   "source": [
    "train_all = train_all.drop(['genre_ids', 'artist_name','isrc', 'registration_init_time', 'expiration_date'], axis=1)\n",
    "val_all = val_all.drop(['genre_ids', 'artist_name' ,'isrc', 'registration_init_time', 'expiration_date'], axis=1)\n",
    "test_all = test_all.drop(['genre_ids', 'artist_name','isrc', 'registration_init_time', 'expiration_date'], axis=1)"
   ]
  },
  {
   "cell_type": "code",
   "execution_count": null,
   "metadata": {
    "id": "5O14tYTFLlZq"
   },
   "outputs": [],
   "source": [
    "# Function to calculate group by features on dataframe.\n",
    "\n",
    "def calculate_groupby_features(data):\n",
    "  \n",
    "  # song count for each user\n",
    "  member_song_count = data.groupby('msno').count()['song_id'].to_dict()\n",
    "  data['member_song_count'] = data['msno'].apply(lambda x: member_song_count[x])\n",
    "\n",
    "  # song count for each artist\n",
    "  artist_song_count = data.groupby('first_artist_name').count()['song_id'].to_dict()\n",
    "  data['artist_song_count'] = data['first_artist_name'].apply(lambda x: artist_song_count[x])\n",
    "\n",
    "  # song count for each genre_id\n",
    "  first_genre_id_song_count = data.groupby('first_genre_id').count()['song_id'].to_dict()\n",
    "  data['genre_song_count'] = data['first_genre_id'].apply(lambda x: first_genre_id_song_count[x])\n",
    "\n",
    "  # song count for each lanugage\n",
    "  lang_song_count = data.groupby('language').count()['song_id'].to_dict()\n",
    "  data['lang_song_count'] = data['language'].apply(lambda x: lang_song_count[x])\n",
    "\n",
    "  # user count for each song\n",
    "  song_member_count = data.groupby('song_id').count()['msno'].to_dict()\n",
    "  data['song_member_count'] = data['song_id'].apply(lambda x: song_member_count[x])\n",
    "\n",
    "  # We can add group by  wrt 'age'\n",
    "  age_song_count = data.groupby('bd').count()['song_id'].to_dict()\n",
    "  data['age_song_count'] = data['bd'].apply(lambda x: age_song_count[x])\n",
    " \n",
    "  return data\n",
    "\n",
    "\n",
    "train_all = calculate_groupby_features(train_all)\n",
    "val_all = calculate_groupby_features(val_all)\n",
    "test_all = calculate_groupby_features(test_all)"
   ]
  },
  {
   "cell_type": "code",
   "execution_count": null,
   "metadata": {
    "colab": {
     "base_uri": "https://localhost:8080/"
    },
    "executionInfo": {
     "elapsed": 1045,
     "status": "ok",
     "timestamp": 1650999670186,
     "user": {
      "displayName": "Harsh Bansal",
      "userId": "14022242986795664987"
     },
     "user_tz": -330
    },
    "id": "5SsGicJ4LlL8",
    "outputId": "3698861d-9097-427b-c678-7a027265f3cf"
   },
   "outputs": [
    {
     "name": "stdout",
     "output_type": "stream",
     "text": [
      "                                                 msno  \\\n",
      "0        XO4VdQLxGqRl/n0HJY6hpzKEqnaNwO6KzWGhdr4fAgM=   \n",
      "1        XO4VdQLxGqRl/n0HJY6hpzKEqnaNwO6KzWGhdr4fAgM=   \n",
      "2        XO4VdQLxGqRl/n0HJY6hpzKEqnaNwO6KzWGhdr4fAgM=   \n",
      "3        XO4VdQLxGqRl/n0HJY6hpzKEqnaNwO6KzWGhdr4fAgM=   \n",
      "4        4I3Pj3ogyd9RY0czfUOmI1pVgBbuoPXDRtbK9tsrRX0=   \n",
      "...                                               ...   \n",
      "1058446  NSPzIkFBYy5MfXbqGUffONOy4i3gB4I0kLnSeUiTETM=   \n",
      "1058447  rqMJyocVwiIT8Ed8CRpAu8+29YNSeTAHl7Q83D9I4ME=   \n",
      "1058448  rqMJyocVwiIT8Ed8CRpAu8+29YNSeTAHl7Q83D9I4ME=   \n",
      "1058449  rqMJyocVwiIT8Ed8CRpAu8+29YNSeTAHl7Q83D9I4ME=   \n",
      "1058450  rqMJyocVwiIT8Ed8CRpAu8+29YNSeTAHl7Q83D9I4ME=   \n",
      "\n",
      "                                              song_id source_system_tab  \\\n",
      "0        cVHsClcaUfj3ZPoqihH1Rd6ZSaDpa6UbdMDcyx8FfVU=          discover   \n",
      "1        r5BnHxvuPlLjwr4MHf3dF3yUY+NVS6rHrkVG7wVZ1uE=          discover   \n",
      "2        un97bVjGL490RQbl8kr/58qbzkeuFBGMnXFRst9RArs=          discover   \n",
      "3        XUz4Z4wPPChz+OIwkwj7HJ8teIjW3rEMdEATM80rDxM=          discover   \n",
      "4        0ee/D6HjX0jSytUn3v58C0x6zEzN4bcPq3WlqvrG/Xo=        my library   \n",
      "...                                               ...               ...   \n",
      "1058446  DLBDZhOoW7zd7GBV99bi92ZXYUS26lzV+jJKbHshP5c=          discover   \n",
      "1058447  EDZ4Fq6T0UT85R2Exzhu0EwIJtk5Sj5Qu9boeL4tt6w=          discover   \n",
      "1058448  auFa5QPQoeDnkvMei6wECQciq9LFHFdFeLvPVuF/GOE=          discover   \n",
      "1058449  DZeYzecyFYZHSgSU0Fhyh8xkfJZBk+H7ooOiySE2Lik=          discover   \n",
      "1058450  t4VZ+yINkJ2cOpArz80pjl3IWdvGp9xHOMF4V4CpneE=          discover   \n",
      "\n",
      "          source_screen_name      source_type  target  city    bd  \\\n",
      "0             Discover Chart  online-playlist     1.0    11  41.0   \n",
      "1             Discover Chart  online-playlist     1.0    11  41.0   \n",
      "2             Discover Chart  online-playlist     1.0    11  41.0   \n",
      "3             Discover Chart  online-playlist     1.0    11  41.0   \n",
      "4        Local playlist more   local-playlist     1.0     1   0.0   \n",
      "...                      ...              ...     ...   ...   ...   \n",
      "1058446       Discover Chart  online-playlist     1.0     4  17.0   \n",
      "1058447     Discover Feature  online-playlist     0.0     5  19.0   \n",
      "1058448     Discover Feature  online-playlist     0.0     5  19.0   \n",
      "1058449     Discover Feature  online-playlist     0.0     5  19.0   \n",
      "1058450     Discover Feature   online-playlis     NaN     5  19.0   \n",
      "\n",
      "                 gender  registered_via  ...  country_code registration_code  \\\n",
      "0                female               9  ...            GB               BKS   \n",
      "1                female               9  ...            GB               UM7   \n",
      "2                female               9  ...            GB               AHS   \n",
      "3                female               9  ...            US               UM7   \n",
      "4        gender_missing               7  ...            US               AT2   \n",
      "...                 ...             ...  ...           ...               ...   \n",
      "1058446          female               3  ...            CN               A65   \n",
      "1058447          female               3  ...            CA               O37   \n",
      "1058448          female               3  ...            GB               NFD   \n",
      "1058449          female               3  ...            UK               32S   \n",
      "1058450          female               3  ...            US               DPX   \n",
      "\n",
      "        song_year  isrc_missing  member_song_count  artist_song_count  \\\n",
      "0          2010.0           0.0                179               3008   \n",
      "1          2014.0           0.0                179              43399   \n",
      "2          2014.0           0.0                179               3369   \n",
      "3          2015.0           0.0                179               3889   \n",
      "4          2016.0           0.0                159               1270   \n",
      "...           ...           ...                ...                ...   \n",
      "1058446    2015.0           0.0                 28               4217   \n",
      "1058447    2016.0           0.0                401                  3   \n",
      "1058448    2016.0           0.0                401                164   \n",
      "1058449    2015.0           0.0                401                  3   \n",
      "1058450    2016.0           0.0                401                  3   \n",
      "\n",
      "         genre_song_count  lang_song_count  song_member_count  age_song_count  \n",
      "0                  541616           259225                479            7120  \n",
      "1                  541616           259225                614            7120  \n",
      "2                  541616           259225                612            7120  \n",
      "3                  541616           259225                605            7120  \n",
      "4                   14627           259225                616          427355  \n",
      "...                   ...              ...                ...             ...  \n",
      "1058446            541616           587712               1943           11761  \n",
      "1058447             14627           259225                  3           21227  \n",
      "1058448            541616           259225                  8           21227  \n",
      "1058449             14627           259225                  2           21227  \n",
      "1058450            541616           259225                  3           21227  \n",
      "\n",
      "[1058451 rows x 37 columns]               id                                          msno  \\\n",
      "0              0  V8ruy7SGk7tDm3zA51DPpn6qutt+vmKMBKa21dp54uM=   \n",
      "1              1  V8ruy7SGk7tDm3zA51DPpn6qutt+vmKMBKa21dp54uM=   \n",
      "2              2  /uQAlrAkaczV+nWCd2sPF2ekvXPRipV7q0l+gbLuxjw=   \n",
      "3              3  1a6oo/iXKatxQx4eS9zTVD+KlSVaAFbTIqVvwLC1Y0k=   \n",
      "4              4  1a6oo/iXKatxQx4eS9zTVD+KlSVaAFbTIqVvwLC1Y0k=   \n",
      "...          ...                                           ...   \n",
      "2556785  2556785  XmA/cIkXJ8jZUfsUc4bBfJVWMMqmylnPW0WVkg/iz0s=   \n",
      "2556786  2556786  jvbujcxCExG0CrPShsEmZ6pePcHuRqru2OLEUw85iGk=   \n",
      "2556787  2556787  jvbujcxCExG0CrPShsEmZ6pePcHuRqru2OLEUw85iGk=   \n",
      "2556788  2556788  jvbujcxCExG0CrPShsEmZ6pePcHuRqru2OLEUw85iGk=   \n",
      "2556789  2556789  jvbujcxCExG0CrPShsEmZ6pePcHuRqru2OLEUw85iGk=   \n",
      "\n",
      "                                              song_id source_system_tab  \\\n",
      "0        WmHKgKMlp1lQMecNdNvDMkvIycZYHnFwDT72I5sIssc=        my library   \n",
      "1        y/rsZ9DC7FwK5F2PK2D5mj+aOBUJAjuu3dZ14NgE0vM=        my library   \n",
      "2        8eZLFOdGVdXBSqoAv5nsLigeH2BvKXzTQYtUM53I0k4=          discover   \n",
      "3        ztCf8thYsS4YN3GcIL/bvoxLm/T5mYBVKOO4C9NiVfQ=             radio   \n",
      "4        MKVMpslKcQhMaFEgcEQhEfi5+RZhMYlU3eRDpySrH8Y=             radio   \n",
      "...                                               ...               ...   \n",
      "2556785  wJoWzZd7AL+qX9xZWZwRTzGRYg0Lxcl5Pe+9n5hZgAQ=          discover   \n",
      "2556786  KCJ8BlSfRQRgB7EVuzFvg52AhR8m2fT032MzN5ewbEI=          discover   \n",
      "2556787  ySDsKJSnhFMESzC9mBhY0hnFEEBWDYx0FOMNcYDLb/A=          discover   \n",
      "2556788  WXH8kL8e+0H2jY+s2Y6FpHyyHdaMYV3b6yfDa3FAt9U=          discover   \n",
      "2556789  ftPDlhAywvcZX7ojE6F+9CDsC22UKX96iEr4W0ciPec=          discover   \n",
      "\n",
      "           source_screen_name          source_type  city    bd  \\\n",
      "0         Local playlist more        local-library     1   0.0   \n",
      "1         Local playlist more        local-library     1   0.0   \n",
      "2              no_screen_name  song-based-playlist     1   0.0   \n",
      "3                       Radio                radio     3  30.0   \n",
      "4                       Radio                radio     3  30.0   \n",
      "...                       ...                  ...   ...   ...   \n",
      "2556785  Online playlist more      online-playlist    13  41.0   \n",
      "2556786        no_screen_name      online-playlist    13  24.0   \n",
      "2556787        no_screen_name      online-playlist    13  24.0   \n",
      "2556788        no_screen_name      online-playlist    13  24.0   \n",
      "2556789        no_screen_name      online-playlist    13  24.0   \n",
      "\n",
      "                 gender  registered_via  ...  country_code registration_code  \\\n",
      "0        gender_missing               7  ...            TW               UM7   \n",
      "1        gender_missing               7  ...            TW               B67   \n",
      "2        gender_missing               4  ...            JP               WP0   \n",
      "3                  male               9  ...            GB               AAN   \n",
      "4                  male               9  ...            IT               O10   \n",
      "...                 ...             ...  ...           ...               ...   \n",
      "2556785          female               9  ...            US               QX9   \n",
      "2556786            male               9  ...            CN               Z17   \n",
      "2556787            male               9  ...            TW               CE3   \n",
      "2556788            male               9  ...            TW               N71   \n",
      "2556789            male               9  ...            TW               L11   \n",
      "\n",
      "        song_year  isrc_missing  member_song_count  artist_song_count  \\\n",
      "0          2014.0           0.0                 17               4009   \n",
      "1          2010.0           0.0                 17              31571   \n",
      "2          2010.0           0.0                  1                149   \n",
      "3          2002.0           0.0                270                225   \n",
      "4          2011.0           0.0                270                 80   \n",
      "...           ...           ...                ...                ...   \n",
      "2556785    2017.0           0.0                118              14520   \n",
      "2556786    2016.0           0.0                132               4549   \n",
      "2556787    2016.0           0.0                132               1230   \n",
      "2556788    2017.0           0.0                132               1985   \n",
      "2556789    2016.0           0.0                132               1878   \n",
      "\n",
      "         genre_song_count  lang_song_count  song_member_count  age_song_count  \n",
      "0                  384869          1311328                196         1046511  \n",
      "1                 1248185          1311328               1479         1046511  \n",
      "2                   56521            84227                  2         1046511  \n",
      "3                 1248185           709024                 14           68238  \n",
      "4                    2893           116856                  3           68238  \n",
      "...                   ...              ...                ...             ...  \n",
      "2556785            121814           709024               2647           17051  \n",
      "2556786            384869          1311328               2973           82561  \n",
      "2556787            384869          1311328               1129           82561  \n",
      "2556788           1248185          1311328               1690           82561  \n",
      "2556789            384869          1311328               1878           82561  \n",
      "\n",
      "[2556790 rows x 37 columns]\n"
     ]
    }
   ],
   "source": [
    "print(val_all, test_all)\n"
   ]
  }
 ],
 "metadata": {
  "colab": {
   "authorship_tag": "ABX9TyOf6HSLyQibJ8E8L5KB29cq",
   "collapsed_sections": [],
   "name": "#LGM_Task3_MusicRecommendation.ipynb",
   "provenance": []
  },
  "kernelspec": {
   "display_name": "Python 3 (ipykernel)",
   "language": "python",
   "name": "python3"
  },
  "language_info": {
   "codemirror_mode": {
    "name": "ipython",
    "version": 3
   },
   "file_extension": ".py",
   "mimetype": "text/x-python",
   "name": "python",
   "nbconvert_exporter": "python",
   "pygments_lexer": "ipython3",
   "version": "3.10.4"
  }
 },
 "nbformat": 4,
 "nbformat_minor": 1
}
